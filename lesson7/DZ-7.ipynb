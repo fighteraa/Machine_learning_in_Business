{
 "cells": [
  {
   "cell_type": "markdown",
   "metadata": {
    "colab_type": "text",
    "id": "HrxZEq_-FHNq"
   },
   "source": [
    "## Домашнее задание 2"
   ]
  },
  {
   "cell_type": "code",
   "execution_count": 1,
   "metadata": {
    "colab": {},
    "colab_type": "code",
    "id": "Fj2E6mVkFR10"
   },
   "outputs": [],
   "source": [
    "import numpy as np\n",
    "import pandas as pd"
   ]
  },
  {
   "cell_type": "code",
   "execution_count": 2,
   "metadata": {
    "colab": {
     "base_uri": "https://localhost:8080/",
     "height": 442
    },
    "colab_type": "code",
    "executionInfo": {
     "elapsed": 3920,
     "status": "ok",
     "timestamp": 1581008058389,
     "user": {
      "displayName": "Aleksandr Shchegolev",
      "photoUrl": "",
      "userId": "00652555022685556919"
     },
     "user_tz": -180
    },
    "id": "_Vs8YR9eFgvy",
    "outputId": "a6611783-1ff7-45db-a9bd-a0292fa59152"
   },
   "outputs": [
    {
     "name": "stdout",
     "output_type": "stream",
     "text": [
      "<class 'pandas.core.frame.DataFrame'>\n",
      "RangeIndex: 115155 entries, 0 to 115154\n",
      "Data columns (total 20 columns):\n",
      "Exposure             115155 non-null float64\n",
      "LicAge               115155 non-null int64\n",
      "RecordBeg            115155 non-null object\n",
      "RecordEnd            59455 non-null object\n",
      "Gender               115155 non-null object\n",
      "MariStat             115155 non-null object\n",
      "SocioCateg           115155 non-null object\n",
      "VehUsage             115155 non-null object\n",
      "DrivAge              115155 non-null int64\n",
      "HasKmLimit           115155 non-null int64\n",
      "BonusMalus           115155 non-null int64\n",
      "ClaimAmount          115155 non-null float64\n",
      "ClaimInd             115155 non-null int64\n",
      "ClaimNbResp          115155 non-null float64\n",
      "ClaimNbNonResp       115155 non-null float64\n",
      "ClaimNbParking       115155 non-null float64\n",
      "ClaimNbFireTheft     115155 non-null float64\n",
      "ClaimNbWindscreen    115155 non-null float64\n",
      "OutUseNb             115155 non-null float64\n",
      "RiskArea             115155 non-null float64\n",
      "dtypes: float64(9), int64(5), object(6)\n",
      "memory usage: 17.6+ MB\n"
     ]
    }
   ],
   "source": [
    "# Загрузим набор данных\n",
    "\n",
    "df = pd.read_csv('freMPL-R.csv', low_memory=False)\n",
    "df = df.loc[df.Dataset.isin([5, 6, 7, 8, 9])]\n",
    "df.drop('Dataset', axis=1, inplace=True)\n",
    "df.dropna(axis=1, how='all', inplace=True)\n",
    "df.drop_duplicates(inplace=True)\n",
    "df.reset_index(drop=True, inplace=True)\n",
    "df.info()"
   ]
  },
  {
   "cell_type": "markdown",
   "metadata": {
    "colab_type": "text",
    "id": "AtfDb_BWWXqQ"
   },
   "source": [
    "В предыдущем уроке мы заметили отрицательную величину убытка для некоторых наблюдений. Заметим, что для всех таких полисов переменная \"ClaimInd\" принимает только значение 0. Поэтому заменим все соответствующие значения \"ClaimAmount\" нулями."
   ]
  },
  {
   "cell_type": "code",
   "execution_count": 3,
   "metadata": {
    "colab": {
     "base_uri": "https://localhost:8080/",
     "height": 221
    },
    "colab_type": "code",
    "executionInfo": {
     "elapsed": 3906,
     "status": "ok",
     "timestamp": 1581008058390,
     "user": {
      "displayName": "Aleksandr Shchegolev",
      "photoUrl": "",
      "userId": "00652555022685556919"
     },
     "user_tz": -180
    },
    "id": "AklwJWsoWnAV",
    "outputId": "027387aa-ba3a-415f-97ae-0ecb2c71cd3c"
   },
   "outputs": [
    {
     "name": "stdout",
     "output_type": "stream",
     "text": [
      "Unique values of ClaimInd: [0]\n"
     ]
    },
    {
     "data": {
      "text/plain": [
       "(967, 2)"
      ]
     },
     "execution_count": 3,
     "metadata": {},
     "output_type": "execute_result"
    }
   ],
   "source": [
    "NegClaimAmount = df.loc[df.ClaimAmount < 0, ['ClaimAmount','ClaimInd']]\n",
    "print('Unique values of ClaimInd:', NegClaimAmount.ClaimInd.unique())\n",
    "NegClaimAmount.shape"
   ]
  },
  {
   "cell_type": "code",
   "execution_count": 4,
   "metadata": {},
   "outputs": [
    {
     "data": {
      "text/html": [
       "<div>\n",
       "<style scoped>\n",
       "    .dataframe tbody tr th:only-of-type {\n",
       "        vertical-align: middle;\n",
       "    }\n",
       "\n",
       "    .dataframe tbody tr th {\n",
       "        vertical-align: top;\n",
       "    }\n",
       "\n",
       "    .dataframe thead th {\n",
       "        text-align: right;\n",
       "    }\n",
       "</style>\n",
       "<table border=\"1\" class=\"dataframe\">\n",
       "  <thead>\n",
       "    <tr style=\"text-align: right;\">\n",
       "      <th></th>\n",
       "      <th>ClaimAmount</th>\n",
       "      <th>ClaimInd</th>\n",
       "    </tr>\n",
       "  </thead>\n",
       "  <tbody>\n",
       "    <tr>\n",
       "      <th>82</th>\n",
       "      <td>-74.206042</td>\n",
       "      <td>0</td>\n",
       "    </tr>\n",
       "    <tr>\n",
       "      <th>175</th>\n",
       "      <td>-1222.585196</td>\n",
       "      <td>0</td>\n",
       "    </tr>\n",
       "    <tr>\n",
       "      <th>177</th>\n",
       "      <td>-316.288822</td>\n",
       "      <td>0</td>\n",
       "    </tr>\n",
       "    <tr>\n",
       "      <th>363</th>\n",
       "      <td>-666.758610</td>\n",
       "      <td>0</td>\n",
       "    </tr>\n",
       "    <tr>\n",
       "      <th>375</th>\n",
       "      <td>-1201.600604</td>\n",
       "      <td>0</td>\n",
       "    </tr>\n",
       "  </tbody>\n",
       "</table>\n",
       "</div>"
      ],
      "text/plain": [
       "     ClaimAmount  ClaimInd\n",
       "82    -74.206042         0\n",
       "175 -1222.585196         0\n",
       "177  -316.288822         0\n",
       "363  -666.758610         0\n",
       "375 -1201.600604         0"
      ]
     },
     "execution_count": 4,
     "metadata": {},
     "output_type": "execute_result"
    }
   ],
   "source": [
    "NegClaimAmount.head()"
   ]
  },
  {
   "cell_type": "code",
   "execution_count": 5,
   "metadata": {
    "colab": {},
    "colab_type": "code",
    "id": "R7laRWoCYF4V"
   },
   "outputs": [],
   "source": [
    "df.loc[df.ClaimAmount < 0, 'ClaimAmount'] = 0"
   ]
  },
  {
   "cell_type": "markdown",
   "metadata": {
    "colab_type": "text",
    "id": "6VuWyv7EGONj"
   },
   "source": [
    "Перекодируем переменные типа `object` с помощью числовых значений"
   ]
  },
  {
   "cell_type": "code",
   "execution_count": 6,
   "metadata": {
    "colab": {},
    "colab_type": "code",
    "id": "yivIrqGaGbSa"
   },
   "outputs": [],
   "source": [
    "def SeriesFactorizer(series):\n",
    "    series, unique = pd.factorize(series)\n",
    "    reference = {x: i for x, i in enumerate(unique)}\n",
    "    print(reference)\n",
    "    return series, reference"
   ]
  },
  {
   "cell_type": "code",
   "execution_count": 7,
   "metadata": {
    "colab": {
     "base_uri": "https://localhost:8080/",
     "height": 34
    },
    "colab_type": "code",
    "executionInfo": {
     "elapsed": 3878,
     "status": "ok",
     "timestamp": 1581008058392,
     "user": {
      "displayName": "Aleksandr Shchegolev",
      "photoUrl": "",
      "userId": "00652555022685556919"
     },
     "user_tz": -180
    },
    "id": "G3SgrIBXGe3J",
    "outputId": "996cd638-4b2d-4826-c0ae-4420fb31e486"
   },
   "outputs": [
    {
     "name": "stdout",
     "output_type": "stream",
     "text": [
      "{0: 'Male', 1: 'Female'}\n"
     ]
    }
   ],
   "source": [
    "df.Gender, GenderRef = SeriesFactorizer(df.Gender)"
   ]
  },
  {
   "cell_type": "code",
   "execution_count": 8,
   "metadata": {
    "colab": {
     "base_uri": "https://localhost:8080/",
     "height": 34
    },
    "colab_type": "code",
    "executionInfo": {
     "elapsed": 3866,
     "status": "ok",
     "timestamp": 1581008058393,
     "user": {
      "displayName": "Aleksandr Shchegolev",
      "photoUrl": "",
      "userId": "00652555022685556919"
     },
     "user_tz": -180
    },
    "id": "HD6_Ie-2GggO",
    "outputId": "c441aeef-2c4a-4594-f716-2941f9068c62"
   },
   "outputs": [
    {
     "name": "stdout",
     "output_type": "stream",
     "text": [
      "{0: 'Other', 1: 'Alone'}\n"
     ]
    }
   ],
   "source": [
    "df.MariStat, MariStatRef = SeriesFactorizer(df.MariStat)"
   ]
  },
  {
   "cell_type": "markdown",
   "metadata": {
    "colab_type": "text",
    "id": "ZdTe9JpiGvt9"
   },
   "source": [
    "Для переменных, содержащих более 2 значений, различия между которыми не могут упорядочены, используем фиктивные переменные (one-hot encoding).\n",
    "\n",
    "**NB**: В H2O не рекомендуется использовать one-hot encoding, поскольку данный фреймворк корректно работает с категориальными признаками, тогда как применение one-hot encoding приводит к неэффективности. Тем не менее, используем здесь фиктивные переменные, чтобы в дальнейшем сохранить возможность сравнения результатов построенных моделей."
   ]
  },
  {
   "cell_type": "code",
   "execution_count": 9,
   "metadata": {
    "colab": {
     "base_uri": "https://localhost:8080/",
     "height": 34
    },
    "colab_type": "code",
    "executionInfo": {
     "elapsed": 3854,
     "status": "ok",
     "timestamp": 1581008058393,
     "user": {
      "displayName": "Aleksandr Shchegolev",
      "photoUrl": "",
      "userId": "00652555022685556919"
     },
     "user_tz": -180
    },
    "id": "VrN99Iv8Ht-G",
    "outputId": "e5acf2a6-ca17-4aab-cd8b-edca0ffbeee3"
   },
   "outputs": [
    {
     "data": {
      "text/plain": [
       "['Professional', 'Private+trip to office', 'Private', 'Professional run']"
      ]
     },
     "execution_count": 9,
     "metadata": {},
     "output_type": "execute_result"
    }
   ],
   "source": [
    "list(df.VehUsage.unique())"
   ]
  },
  {
   "cell_type": "code",
   "execution_count": 10,
   "metadata": {
    "colab": {
     "base_uri": "https://localhost:8080/",
     "height": 204
    },
    "colab_type": "code",
    "executionInfo": {
     "elapsed": 3842,
     "status": "ok",
     "timestamp": 1581008058394,
     "user": {
      "displayName": "Aleksandr Shchegolev",
      "photoUrl": "",
      "userId": "00652555022685556919"
     },
     "user_tz": -180
    },
    "id": "WXfZa7lUH0Jf",
    "outputId": "0ee97476-8bdd-43d3-9765-5bc0cf239456"
   },
   "outputs": [
    {
     "data": {
      "text/html": [
       "<div>\n",
       "<style scoped>\n",
       "    .dataframe tbody tr th:only-of-type {\n",
       "        vertical-align: middle;\n",
       "    }\n",
       "\n",
       "    .dataframe tbody tr th {\n",
       "        vertical-align: top;\n",
       "    }\n",
       "\n",
       "    .dataframe thead th {\n",
       "        text-align: right;\n",
       "    }\n",
       "</style>\n",
       "<table border=\"1\" class=\"dataframe\">\n",
       "  <thead>\n",
       "    <tr style=\"text-align: right;\">\n",
       "      <th></th>\n",
       "      <th>VehUsg_Private</th>\n",
       "      <th>VehUsg_Private+trip to office</th>\n",
       "      <th>VehUsg_Professional</th>\n",
       "      <th>VehUsg_Professional run</th>\n",
       "    </tr>\n",
       "  </thead>\n",
       "  <tbody>\n",
       "    <tr>\n",
       "      <th>0</th>\n",
       "      <td>0</td>\n",
       "      <td>0</td>\n",
       "      <td>1</td>\n",
       "      <td>0</td>\n",
       "    </tr>\n",
       "    <tr>\n",
       "      <th>1</th>\n",
       "      <td>0</td>\n",
       "      <td>0</td>\n",
       "      <td>1</td>\n",
       "      <td>0</td>\n",
       "    </tr>\n",
       "    <tr>\n",
       "      <th>2</th>\n",
       "      <td>0</td>\n",
       "      <td>1</td>\n",
       "      <td>0</td>\n",
       "      <td>0</td>\n",
       "    </tr>\n",
       "    <tr>\n",
       "      <th>3</th>\n",
       "      <td>0</td>\n",
       "      <td>1</td>\n",
       "      <td>0</td>\n",
       "      <td>0</td>\n",
       "    </tr>\n",
       "    <tr>\n",
       "      <th>4</th>\n",
       "      <td>1</td>\n",
       "      <td>0</td>\n",
       "      <td>0</td>\n",
       "      <td>0</td>\n",
       "    </tr>\n",
       "  </tbody>\n",
       "</table>\n",
       "</div>"
      ],
      "text/plain": [
       "   VehUsg_Private  VehUsg_Private+trip to office  VehUsg_Professional  \\\n",
       "0               0                              0                    1   \n",
       "1               0                              0                    1   \n",
       "2               0                              1                    0   \n",
       "3               0                              1                    0   \n",
       "4               1                              0                    0   \n",
       "\n",
       "   VehUsg_Professional run  \n",
       "0                        0  \n",
       "1                        0  \n",
       "2                        0  \n",
       "3                        0  \n",
       "4                        0  "
      ]
     },
     "execution_count": 10,
     "metadata": {},
     "output_type": "execute_result"
    }
   ],
   "source": [
    "VU_dummies = pd.get_dummies(df.VehUsage, prefix='VehUsg', drop_first=False)\n",
    "VU_dummies.head()"
   ]
  },
  {
   "cell_type": "markdown",
   "metadata": {
    "colab_type": "text",
    "id": "vSlx8FxWH9P2"
   },
   "source": [
    "Фактор \"SocioCateg\" содержит информацию о социальной категории в виде кодов классификации CSP. Агрегируем имеющиеся коды до 1 знака, а затем закодируем их с помощью one-hot encoding.\n",
    "\n",
    "[Wiki](https://fr.wikipedia.org/wiki/Professions_et_cat%C3%A9gories_socioprofessionnelles_en_France#Cr%C3%A9ation_de_la_nomenclature_des_PCS)\n",
    "\n",
    "[Более подробный классификатор](https://www.ast74.fr/upload/administratif/liste-des-codes-csp-copie.pdf)"
   ]
  },
  {
   "cell_type": "code",
   "execution_count": 11,
   "metadata": {
    "colab": {
     "base_uri": "https://localhost:8080/",
     "height": 136
    },
    "colab_type": "code",
    "executionInfo": {
     "elapsed": 3828,
     "status": "ok",
     "timestamp": 1581008058394,
     "user": {
      "displayName": "Aleksandr Shchegolev",
      "photoUrl": "",
      "userId": "00652555022685556919"
     },
     "user_tz": -180
    },
    "id": "o-JmQOrFLjt1",
    "outputId": "a930641c-36da-46ca-a1f8-af633c9238c4"
   },
   "outputs": [
    {
     "data": {
      "text/plain": [
       "array(['CSP50', 'CSP55', 'CSP60', 'CSP48', 'CSP6', 'CSP66', 'CSP1',\n",
       "       'CSP46', 'CSP21', 'CSP47', 'CSP42', 'CSP37', 'CSP22', 'CSP3',\n",
       "       'CSP49', 'CSP20', 'CSP2', 'CSP40', 'CSP7', 'CSP26', 'CSP65',\n",
       "       'CSP41', 'CSP17', 'CSP57', 'CSP56', 'CSP38', 'CSP51', 'CSP59',\n",
       "       'CSP30', 'CSP44', 'CSP61', 'CSP63', 'CSP45', 'CSP16', 'CSP43',\n",
       "       'CSP39', 'CSP5', 'CSP32', 'CSP35', 'CSP73', 'CSP62', 'CSP52',\n",
       "       'CSP27', 'CSP24', 'CSP19', 'CSP70'], dtype=object)"
      ]
     },
     "execution_count": 11,
     "metadata": {},
     "output_type": "execute_result"
    }
   ],
   "source": [
    "df['SocioCateg'].unique()"
   ]
  },
  {
   "cell_type": "code",
   "execution_count": 12,
   "metadata": {
    "colab": {},
    "colab_type": "code",
    "id": "6knnpiia1a-D"
   },
   "outputs": [],
   "source": [
    "df['SocioCateg'] = df.SocioCateg.str.slice(0,4)"
   ]
  },
  {
   "cell_type": "code",
   "execution_count": 13,
   "metadata": {
    "colab": {
     "base_uri": "https://localhost:8080/",
     "height": 266
    },
    "colab_type": "code",
    "executionInfo": {
     "elapsed": 3803,
     "status": "ok",
     "timestamp": 1581008058395,
     "user": {
      "displayName": "Aleksandr Shchegolev",
      "photoUrl": "",
      "userId": "00652555022685556919"
     },
     "user_tz": -180
    },
    "id": "Xa8XgQB306yD",
    "outputId": "00c7ffd0-6b5e-4460-e046-105cd2820d3d"
   },
   "outputs": [
    {
     "data": {
      "text/html": [
       "<div>\n",
       "<style scoped>\n",
       "    .dataframe tbody tr th:only-of-type {\n",
       "        vertical-align: middle;\n",
       "    }\n",
       "\n",
       "    .dataframe tbody tr th {\n",
       "        vertical-align: top;\n",
       "    }\n",
       "\n",
       "    .dataframe thead th {\n",
       "        text-align: right;\n",
       "    }\n",
       "</style>\n",
       "<table border=\"1\" class=\"dataframe\">\n",
       "  <thead>\n",
       "    <tr style=\"text-align: right;\">\n",
       "      <th></th>\n",
       "      <th>Frequency</th>\n",
       "    </tr>\n",
       "  </thead>\n",
       "  <tbody>\n",
       "    <tr>\n",
       "      <th>CSP7</th>\n",
       "      <td>14</td>\n",
       "    </tr>\n",
       "    <tr>\n",
       "      <th>CSP3</th>\n",
       "      <td>1210</td>\n",
       "    </tr>\n",
       "    <tr>\n",
       "      <th>CSP1</th>\n",
       "      <td>2740</td>\n",
       "    </tr>\n",
       "    <tr>\n",
       "      <th>CSP2</th>\n",
       "      <td>3254</td>\n",
       "    </tr>\n",
       "    <tr>\n",
       "      <th>CSP4</th>\n",
       "      <td>7648</td>\n",
       "    </tr>\n",
       "    <tr>\n",
       "      <th>CSP6</th>\n",
       "      <td>24833</td>\n",
       "    </tr>\n",
       "    <tr>\n",
       "      <th>CSP5</th>\n",
       "      <td>75456</td>\n",
       "    </tr>\n",
       "  </tbody>\n",
       "</table>\n",
       "</div>"
      ],
      "text/plain": [
       "      Frequency\n",
       "CSP7         14\n",
       "CSP3       1210\n",
       "CSP1       2740\n",
       "CSP2       3254\n",
       "CSP4       7648\n",
       "CSP6      24833\n",
       "CSP5      75456"
      ]
     },
     "execution_count": 13,
     "metadata": {},
     "output_type": "execute_result"
    }
   ],
   "source": [
    "pd.DataFrame(df.SocioCateg.value_counts().sort_values()).rename({'SocioCateg': 'Frequency'}, axis=1)"
   ]
  },
  {
   "cell_type": "code",
   "execution_count": 14,
   "metadata": {
    "colab": {},
    "colab_type": "code",
    "id": "zPfpFjNiKHtj"
   },
   "outputs": [],
   "source": [
    "df = pd.get_dummies(df, columns=['VehUsage','SocioCateg'])"
   ]
  },
  {
   "cell_type": "markdown",
   "metadata": {
    "colab_type": "text",
    "id": "xuMe7c-wKT3H"
   },
   "source": [
    "Теперь, когда большинство переменных типа `object` обработаны, исключим их из набора данных за ненадобностью."
   ]
  },
  {
   "cell_type": "code",
   "execution_count": 15,
   "metadata": {
    "colab": {},
    "colab_type": "code",
    "id": "HBbmRHUFKRql"
   },
   "outputs": [],
   "source": [
    "df = df.select_dtypes(exclude=['object'])"
   ]
  },
  {
   "cell_type": "markdown",
   "metadata": {
    "colab_type": "text",
    "id": "SYrDMnrEAFwG"
   },
   "source": [
    "Также создадим такую переменную, как квадрат возраста."
   ]
  },
  {
   "cell_type": "code",
   "execution_count": 16,
   "metadata": {
    "colab": {
     "base_uri": "https://localhost:8080/",
     "height": 241
    },
    "colab_type": "code",
    "executionInfo": {
     "elapsed": 4232,
     "status": "ok",
     "timestamp": 1581008058852,
     "user": {
      "displayName": "Aleksandr Shchegolev",
      "photoUrl": "",
      "userId": "00652555022685556919"
     },
     "user_tz": -180
    },
    "id": "Sduuts5fAAmK",
    "outputId": "2affcb26-2aa4-444f-d755-0b69168be9f1"
   },
   "outputs": [
    {
     "data": {
      "text/html": [
       "<div>\n",
       "<style scoped>\n",
       "    .dataframe tbody tr th:only-of-type {\n",
       "        vertical-align: middle;\n",
       "    }\n",
       "\n",
       "    .dataframe tbody tr th {\n",
       "        vertical-align: top;\n",
       "    }\n",
       "\n",
       "    .dataframe thead th {\n",
       "        text-align: right;\n",
       "    }\n",
       "</style>\n",
       "<table border=\"1\" class=\"dataframe\">\n",
       "  <thead>\n",
       "    <tr style=\"text-align: right;\">\n",
       "      <th></th>\n",
       "      <th>Exposure</th>\n",
       "      <th>LicAge</th>\n",
       "      <th>Gender</th>\n",
       "      <th>MariStat</th>\n",
       "      <th>DrivAge</th>\n",
       "      <th>HasKmLimit</th>\n",
       "      <th>BonusMalus</th>\n",
       "      <th>ClaimAmount</th>\n",
       "      <th>ClaimInd</th>\n",
       "      <th>ClaimNbResp</th>\n",
       "      <th>...</th>\n",
       "      <th>VehUsage_Professional</th>\n",
       "      <th>VehUsage_Professional run</th>\n",
       "      <th>SocioCateg_CSP1</th>\n",
       "      <th>SocioCateg_CSP2</th>\n",
       "      <th>SocioCateg_CSP3</th>\n",
       "      <th>SocioCateg_CSP4</th>\n",
       "      <th>SocioCateg_CSP5</th>\n",
       "      <th>SocioCateg_CSP6</th>\n",
       "      <th>SocioCateg_CSP7</th>\n",
       "      <th>DrivAgeSq</th>\n",
       "    </tr>\n",
       "  </thead>\n",
       "  <tbody>\n",
       "    <tr>\n",
       "      <th>0</th>\n",
       "      <td>0.083</td>\n",
       "      <td>332</td>\n",
       "      <td>0</td>\n",
       "      <td>0</td>\n",
       "      <td>46</td>\n",
       "      <td>0</td>\n",
       "      <td>50</td>\n",
       "      <td>0.0</td>\n",
       "      <td>0</td>\n",
       "      <td>0.0</td>\n",
       "      <td>...</td>\n",
       "      <td>1</td>\n",
       "      <td>0</td>\n",
       "      <td>0</td>\n",
       "      <td>0</td>\n",
       "      <td>0</td>\n",
       "      <td>0</td>\n",
       "      <td>1</td>\n",
       "      <td>0</td>\n",
       "      <td>0</td>\n",
       "      <td>2116</td>\n",
       "    </tr>\n",
       "    <tr>\n",
       "      <th>1</th>\n",
       "      <td>0.916</td>\n",
       "      <td>333</td>\n",
       "      <td>0</td>\n",
       "      <td>0</td>\n",
       "      <td>46</td>\n",
       "      <td>0</td>\n",
       "      <td>50</td>\n",
       "      <td>0.0</td>\n",
       "      <td>0</td>\n",
       "      <td>0.0</td>\n",
       "      <td>...</td>\n",
       "      <td>1</td>\n",
       "      <td>0</td>\n",
       "      <td>0</td>\n",
       "      <td>0</td>\n",
       "      <td>0</td>\n",
       "      <td>0</td>\n",
       "      <td>1</td>\n",
       "      <td>0</td>\n",
       "      <td>0</td>\n",
       "      <td>2116</td>\n",
       "    </tr>\n",
       "    <tr>\n",
       "      <th>2</th>\n",
       "      <td>0.550</td>\n",
       "      <td>173</td>\n",
       "      <td>0</td>\n",
       "      <td>0</td>\n",
       "      <td>32</td>\n",
       "      <td>0</td>\n",
       "      <td>68</td>\n",
       "      <td>0.0</td>\n",
       "      <td>0</td>\n",
       "      <td>0.0</td>\n",
       "      <td>...</td>\n",
       "      <td>0</td>\n",
       "      <td>0</td>\n",
       "      <td>0</td>\n",
       "      <td>0</td>\n",
       "      <td>0</td>\n",
       "      <td>0</td>\n",
       "      <td>1</td>\n",
       "      <td>0</td>\n",
       "      <td>0</td>\n",
       "      <td>1024</td>\n",
       "    </tr>\n",
       "    <tr>\n",
       "      <th>3</th>\n",
       "      <td>0.089</td>\n",
       "      <td>364</td>\n",
       "      <td>1</td>\n",
       "      <td>0</td>\n",
       "      <td>52</td>\n",
       "      <td>0</td>\n",
       "      <td>50</td>\n",
       "      <td>0.0</td>\n",
       "      <td>0</td>\n",
       "      <td>0.0</td>\n",
       "      <td>...</td>\n",
       "      <td>0</td>\n",
       "      <td>0</td>\n",
       "      <td>0</td>\n",
       "      <td>0</td>\n",
       "      <td>0</td>\n",
       "      <td>0</td>\n",
       "      <td>1</td>\n",
       "      <td>0</td>\n",
       "      <td>0</td>\n",
       "      <td>2704</td>\n",
       "    </tr>\n",
       "    <tr>\n",
       "      <th>4</th>\n",
       "      <td>0.233</td>\n",
       "      <td>426</td>\n",
       "      <td>0</td>\n",
       "      <td>0</td>\n",
       "      <td>57</td>\n",
       "      <td>0</td>\n",
       "      <td>50</td>\n",
       "      <td>0.0</td>\n",
       "      <td>0</td>\n",
       "      <td>0.0</td>\n",
       "      <td>...</td>\n",
       "      <td>0</td>\n",
       "      <td>0</td>\n",
       "      <td>0</td>\n",
       "      <td>0</td>\n",
       "      <td>0</td>\n",
       "      <td>0</td>\n",
       "      <td>0</td>\n",
       "      <td>1</td>\n",
       "      <td>0</td>\n",
       "      <td>3249</td>\n",
       "    </tr>\n",
       "  </tbody>\n",
       "</table>\n",
       "<p>5 rows × 28 columns</p>\n",
       "</div>"
      ],
      "text/plain": [
       "   Exposure  LicAge  Gender  MariStat  DrivAge  HasKmLimit  BonusMalus  \\\n",
       "0     0.083     332       0         0       46           0          50   \n",
       "1     0.916     333       0         0       46           0          50   \n",
       "2     0.550     173       0         0       32           0          68   \n",
       "3     0.089     364       1         0       52           0          50   \n",
       "4     0.233     426       0         0       57           0          50   \n",
       "\n",
       "   ClaimAmount  ClaimInd  ClaimNbResp    ...      VehUsage_Professional  \\\n",
       "0          0.0         0          0.0    ...                          1   \n",
       "1          0.0         0          0.0    ...                          1   \n",
       "2          0.0         0          0.0    ...                          0   \n",
       "3          0.0         0          0.0    ...                          0   \n",
       "4          0.0         0          0.0    ...                          0   \n",
       "\n",
       "   VehUsage_Professional run  SocioCateg_CSP1  SocioCateg_CSP2  \\\n",
       "0                          0                0                0   \n",
       "1                          0                0                0   \n",
       "2                          0                0                0   \n",
       "3                          0                0                0   \n",
       "4                          0                0                0   \n",
       "\n",
       "   SocioCateg_CSP3  SocioCateg_CSP4  SocioCateg_CSP5  SocioCateg_CSP6  \\\n",
       "0                0                0                1                0   \n",
       "1                0                0                1                0   \n",
       "2                0                0                1                0   \n",
       "3                0                0                1                0   \n",
       "4                0                0                0                1   \n",
       "\n",
       "   SocioCateg_CSP7  DrivAgeSq  \n",
       "0                0       2116  \n",
       "1                0       2116  \n",
       "2                0       1024  \n",
       "3                0       2704  \n",
       "4                0       3249  \n",
       "\n",
       "[5 rows x 28 columns]"
      ]
     },
     "execution_count": 16,
     "metadata": {},
     "output_type": "execute_result"
    }
   ],
   "source": [
    "df['DrivAgeSq'] = df.DrivAge.apply(lambda x: x**2)\n",
    "df.head()"
   ]
  },
  {
   "cell_type": "markdown",
   "metadata": {
    "colab_type": "text",
    "id": "XE_3dSsW3J3X"
   },
   "source": [
    "Для моделирования частоты убытков сгенерируем показатель как сумму индикатора того, что убыток произошел (\"ClaimInd\") и количества заявленных убытков по различным видам ущерба за 4 предшествующих года (\"ClaimNbResp\", \"ClaimNbNonResp\", \"ClaimNbParking\", \"ClaimNbFireTheft\", \"ClaimNbWindscreen\").\n",
    "\n",
    "В случаях, если соответствующая величина убытка равняется нулю, сгенерированную частоту также обнулим."
   ]
  },
  {
   "cell_type": "code",
   "execution_count": 17,
   "metadata": {
    "colab": {},
    "colab_type": "code",
    "id": "R6rz5Oko3rbr"
   },
   "outputs": [],
   "source": [
    "df['ClaimsCount'] = df.ClaimInd + df.ClaimNbResp + df.ClaimNbNonResp + df.ClaimNbParking + df.ClaimNbFireTheft + df.ClaimNbWindscreen\n",
    "df.loc[df.ClaimAmount == 0, 'ClaimsCount'] = 0\n",
    "df.drop([\"ClaimNbResp\", \"ClaimNbNonResp\", \"ClaimNbParking\", \"ClaimNbFireTheft\", \"ClaimNbWindscreen\"], axis=1, inplace=True)"
   ]
  },
  {
   "cell_type": "code",
   "execution_count": 18,
   "metadata": {
    "colab": {
     "base_uri": "https://localhost:8080/",
     "height": 390
    },
    "colab_type": "code",
    "executionInfo": {
     "elapsed": 4675,
     "status": "ok",
     "timestamp": 1581008059318,
     "user": {
      "displayName": "Aleksandr Shchegolev",
      "photoUrl": "",
      "userId": "00652555022685556919"
     },
     "user_tz": -180
    },
    "id": "cJ5_aqnx4FcZ",
    "outputId": "bd26a961-725a-46f4-abeb-ebafcfe8edf2"
   },
   "outputs": [
    {
     "data": {
      "text/html": [
       "<div>\n",
       "<style scoped>\n",
       "    .dataframe tbody tr th:only-of-type {\n",
       "        vertical-align: middle;\n",
       "    }\n",
       "\n",
       "    .dataframe tbody tr th {\n",
       "        vertical-align: top;\n",
       "    }\n",
       "\n",
       "    .dataframe thead th {\n",
       "        text-align: right;\n",
       "    }\n",
       "</style>\n",
       "<table border=\"1\" class=\"dataframe\">\n",
       "  <thead>\n",
       "    <tr style=\"text-align: right;\">\n",
       "      <th></th>\n",
       "      <th>Policies</th>\n",
       "    </tr>\n",
       "  </thead>\n",
       "  <tbody>\n",
       "    <tr>\n",
       "      <th>0.0</th>\n",
       "      <td>104286</td>\n",
       "    </tr>\n",
       "    <tr>\n",
       "      <th>2.0</th>\n",
       "      <td>3529</td>\n",
       "    </tr>\n",
       "    <tr>\n",
       "      <th>1.0</th>\n",
       "      <td>3339</td>\n",
       "    </tr>\n",
       "    <tr>\n",
       "      <th>3.0</th>\n",
       "      <td>2310</td>\n",
       "    </tr>\n",
       "    <tr>\n",
       "      <th>4.0</th>\n",
       "      <td>1101</td>\n",
       "    </tr>\n",
       "    <tr>\n",
       "      <th>5.0</th>\n",
       "      <td>428</td>\n",
       "    </tr>\n",
       "    <tr>\n",
       "      <th>6.0</th>\n",
       "      <td>127</td>\n",
       "    </tr>\n",
       "    <tr>\n",
       "      <th>7.0</th>\n",
       "      <td>26</td>\n",
       "    </tr>\n",
       "    <tr>\n",
       "      <th>8.0</th>\n",
       "      <td>6</td>\n",
       "    </tr>\n",
       "    <tr>\n",
       "      <th>9.0</th>\n",
       "      <td>2</td>\n",
       "    </tr>\n",
       "    <tr>\n",
       "      <th>11.0</th>\n",
       "      <td>1</td>\n",
       "    </tr>\n",
       "  </tbody>\n",
       "</table>\n",
       "</div>"
      ],
      "text/plain": [
       "      Policies\n",
       "0.0     104286\n",
       "2.0       3529\n",
       "1.0       3339\n",
       "3.0       2310\n",
       "4.0       1101\n",
       "5.0        428\n",
       "6.0        127\n",
       "7.0         26\n",
       "8.0          6\n",
       "9.0          2\n",
       "11.0         1"
      ]
     },
     "execution_count": 18,
     "metadata": {},
     "output_type": "execute_result"
    }
   ],
   "source": [
    "pd.DataFrame(df.ClaimsCount.value_counts()).rename({'ClaimsCount': 'Policies'}, axis=1)"
   ]
  },
  {
   "cell_type": "code",
   "execution_count": 20,
   "metadata": {
    "colab": {
     "base_uri": "https://localhost:8080/",
     "height": 562
    },
    "colab_type": "code",
    "executionInfo": {
     "elapsed": 20314,
     "status": "ok",
     "timestamp": 1581008075050,
     "user": {
      "displayName": "Aleksandr Shchegolev",
      "photoUrl": "",
      "userId": "00652555022685556919"
     },
     "user_tz": -180
    },
    "id": "KSdsMa-agl-6",
    "outputId": "e72cd3f1-dd71-498c-8498-fcbaea625e7e",
    "scrolled": true
   },
   "outputs": [
    {
     "name": "stdout",
     "output_type": "stream",
     "text": [
      "Checking whether there is an H2O instance running at http://localhost:54321 ..... not found.\n",
      "Attempting to start a local H2O server...\n",
      "; Java HotSpot(TM) 64-Bit Server VM (build 25.171-b11, mixed mode)\n",
      "  Starting server from C:\\Users\\a.andoskin\\AppData\\Local\\Continuum\\anaconda3\\lib\\site-packages\\h2o\\backend\\bin\\h2o.jar\n",
      "  Ice root: C:\\Users\\A7343~1.AND\\AppData\\Local\\Temp\\tmpto99zgxa\n",
      "  JVM stdout: C:\\Users\\A7343~1.AND\\AppData\\Local\\Temp\\tmpto99zgxa\\h2o_a_andoskin_started_from_python.out\n",
      "  JVM stderr: C:\\Users\\A7343~1.AND\\AppData\\Local\\Temp\\tmpto99zgxa\\h2o_a_andoskin_started_from_python.err\n",
      "  Server is running at http://127.0.0.1:54321\n",
      "Connecting to H2O server at http://127.0.0.1:54321 ... successful.\n"
     ]
    },
    {
     "data": {
      "text/html": [
       "<div style=\"overflow:auto\"><table style=\"width:50%\"><tr><td>H2O cluster uptime:</td>\n",
       "<td>02 secs</td></tr>\n",
       "<tr><td>H2O cluster timezone:</td>\n",
       "<td>Europe/Moscow</td></tr>\n",
       "<tr><td>H2O data parsing timezone:</td>\n",
       "<td>UTC</td></tr>\n",
       "<tr><td>H2O cluster version:</td>\n",
       "<td>3.28.0.3</td></tr>\n",
       "<tr><td>H2O cluster version age:</td>\n",
       "<td>4 days </td></tr>\n",
       "<tr><td>H2O cluster name:</td>\n",
       "<td>H2O_from_python_a_andoskin_12cmi4</td></tr>\n",
       "<tr><td>H2O cluster total nodes:</td>\n",
       "<td>1</td></tr>\n",
       "<tr><td>H2O cluster free memory:</td>\n",
       "<td>1.770 Gb</td></tr>\n",
       "<tr><td>H2O cluster total cores:</td>\n",
       "<td>0</td></tr>\n",
       "<tr><td>H2O cluster allowed cores:</td>\n",
       "<td>0</td></tr>\n",
       "<tr><td>H2O cluster status:</td>\n",
       "<td>accepting new members, healthy</td></tr>\n",
       "<tr><td>H2O connection url:</td>\n",
       "<td>http://127.0.0.1:54321</td></tr>\n",
       "<tr><td>H2O connection proxy:</td>\n",
       "<td>{'http': None, 'https': None}</td></tr>\n",
       "<tr><td>H2O internal security:</td>\n",
       "<td>False</td></tr>\n",
       "<tr><td>H2O API Extensions:</td>\n",
       "<td>Amazon S3, Algos, AutoML, Core V3, TargetEncoder, Core V4</td></tr>\n",
       "<tr><td>Python version:</td>\n",
       "<td>3.7.1 final</td></tr></table></div>"
      ],
      "text/plain": [
       "--------------------------  ---------------------------------------------------------\n",
       "H2O cluster uptime:         02 secs\n",
       "H2O cluster timezone:       Europe/Moscow\n",
       "H2O data parsing timezone:  UTC\n",
       "H2O cluster version:        3.28.0.3\n",
       "H2O cluster version age:    4 days\n",
       "H2O cluster name:           H2O_from_python_a_andoskin_12cmi4\n",
       "H2O cluster total nodes:    1\n",
       "H2O cluster free memory:    1.770 Gb\n",
       "H2O cluster total cores:    0\n",
       "H2O cluster allowed cores:  0\n",
       "H2O cluster status:         accepting new members, healthy\n",
       "H2O connection url:         http://127.0.0.1:54321\n",
       "H2O connection proxy:       {'http': None, 'https': None}\n",
       "H2O internal security:      False\n",
       "H2O API Extensions:         Amazon S3, Algos, AutoML, Core V3, TargetEncoder, Core V4\n",
       "Python version:             3.7.1 final\n",
       "--------------------------  ---------------------------------------------------------"
      ]
     },
     "metadata": {},
     "output_type": "display_data"
    }
   ],
   "source": [
    "import h2o\n",
    "from h2o.estimators.glm import H2OGeneralizedLinearEstimator\n",
    "h2o.init()"
   ]
  },
  {
   "cell_type": "code",
   "execution_count": 21,
   "metadata": {},
   "outputs": [
    {
     "name": "stdout",
     "output_type": "stream",
     "text": [
      "Parse progress: |█████████████████████████████████████████████████████████| 100%\n"
     ]
    }
   ],
   "source": [
    "h2o_df = h2o.H2OFrame(df)"
   ]
  },
  {
   "cell_type": "code",
   "execution_count": 22,
   "metadata": {},
   "outputs": [],
   "source": [
    "from sklearn.model_selection import train_test_split"
   ]
  },
  {
   "cell_type": "code",
   "execution_count": 23,
   "metadata": {},
   "outputs": [
    {
     "data": {
      "text/html": [
       "<div>\n",
       "<style scoped>\n",
       "    .dataframe tbody tr th:only-of-type {\n",
       "        vertical-align: middle;\n",
       "    }\n",
       "\n",
       "    .dataframe tbody tr th {\n",
       "        vertical-align: top;\n",
       "    }\n",
       "\n",
       "    .dataframe thead th {\n",
       "        text-align: right;\n",
       "    }\n",
       "</style>\n",
       "<table border=\"1\" class=\"dataframe\">\n",
       "  <thead>\n",
       "    <tr style=\"text-align: right;\">\n",
       "      <th></th>\n",
       "      <th>Exposure</th>\n",
       "      <th>LicAge</th>\n",
       "      <th>Gender</th>\n",
       "      <th>MariStat</th>\n",
       "      <th>DrivAge</th>\n",
       "      <th>HasKmLimit</th>\n",
       "      <th>BonusMalus</th>\n",
       "      <th>ClaimAmount</th>\n",
       "      <th>ClaimInd</th>\n",
       "      <th>OutUseNb</th>\n",
       "      <th>...</th>\n",
       "      <th>VehUsage_Professional run</th>\n",
       "      <th>SocioCateg_CSP1</th>\n",
       "      <th>SocioCateg_CSP2</th>\n",
       "      <th>SocioCateg_CSP3</th>\n",
       "      <th>SocioCateg_CSP4</th>\n",
       "      <th>SocioCateg_CSP5</th>\n",
       "      <th>SocioCateg_CSP6</th>\n",
       "      <th>SocioCateg_CSP7</th>\n",
       "      <th>DrivAgeSq</th>\n",
       "      <th>ClaimsCount</th>\n",
       "    </tr>\n",
       "  </thead>\n",
       "  <tbody>\n",
       "    <tr>\n",
       "      <th>0</th>\n",
       "      <td>0.083</td>\n",
       "      <td>332</td>\n",
       "      <td>0</td>\n",
       "      <td>0</td>\n",
       "      <td>46</td>\n",
       "      <td>0</td>\n",
       "      <td>50</td>\n",
       "      <td>0.0</td>\n",
       "      <td>0</td>\n",
       "      <td>0.0</td>\n",
       "      <td>...</td>\n",
       "      <td>0</td>\n",
       "      <td>0</td>\n",
       "      <td>0</td>\n",
       "      <td>0</td>\n",
       "      <td>0</td>\n",
       "      <td>1</td>\n",
       "      <td>0</td>\n",
       "      <td>0</td>\n",
       "      <td>2116</td>\n",
       "      <td>0.0</td>\n",
       "    </tr>\n",
       "    <tr>\n",
       "      <th>1</th>\n",
       "      <td>0.916</td>\n",
       "      <td>333</td>\n",
       "      <td>0</td>\n",
       "      <td>0</td>\n",
       "      <td>46</td>\n",
       "      <td>0</td>\n",
       "      <td>50</td>\n",
       "      <td>0.0</td>\n",
       "      <td>0</td>\n",
       "      <td>0.0</td>\n",
       "      <td>...</td>\n",
       "      <td>0</td>\n",
       "      <td>0</td>\n",
       "      <td>0</td>\n",
       "      <td>0</td>\n",
       "      <td>0</td>\n",
       "      <td>1</td>\n",
       "      <td>0</td>\n",
       "      <td>0</td>\n",
       "      <td>2116</td>\n",
       "      <td>0.0</td>\n",
       "    </tr>\n",
       "    <tr>\n",
       "      <th>2</th>\n",
       "      <td>0.550</td>\n",
       "      <td>173</td>\n",
       "      <td>0</td>\n",
       "      <td>0</td>\n",
       "      <td>32</td>\n",
       "      <td>0</td>\n",
       "      <td>68</td>\n",
       "      <td>0.0</td>\n",
       "      <td>0</td>\n",
       "      <td>0.0</td>\n",
       "      <td>...</td>\n",
       "      <td>0</td>\n",
       "      <td>0</td>\n",
       "      <td>0</td>\n",
       "      <td>0</td>\n",
       "      <td>0</td>\n",
       "      <td>1</td>\n",
       "      <td>0</td>\n",
       "      <td>0</td>\n",
       "      <td>1024</td>\n",
       "      <td>0.0</td>\n",
       "    </tr>\n",
       "    <tr>\n",
       "      <th>3</th>\n",
       "      <td>0.089</td>\n",
       "      <td>364</td>\n",
       "      <td>1</td>\n",
       "      <td>0</td>\n",
       "      <td>52</td>\n",
       "      <td>0</td>\n",
       "      <td>50</td>\n",
       "      <td>0.0</td>\n",
       "      <td>0</td>\n",
       "      <td>0.0</td>\n",
       "      <td>...</td>\n",
       "      <td>0</td>\n",
       "      <td>0</td>\n",
       "      <td>0</td>\n",
       "      <td>0</td>\n",
       "      <td>0</td>\n",
       "      <td>1</td>\n",
       "      <td>0</td>\n",
       "      <td>0</td>\n",
       "      <td>2704</td>\n",
       "      <td>0.0</td>\n",
       "    </tr>\n",
       "    <tr>\n",
       "      <th>4</th>\n",
       "      <td>0.233</td>\n",
       "      <td>426</td>\n",
       "      <td>0</td>\n",
       "      <td>0</td>\n",
       "      <td>57</td>\n",
       "      <td>0</td>\n",
       "      <td>50</td>\n",
       "      <td>0.0</td>\n",
       "      <td>0</td>\n",
       "      <td>0.0</td>\n",
       "      <td>...</td>\n",
       "      <td>0</td>\n",
       "      <td>0</td>\n",
       "      <td>0</td>\n",
       "      <td>0</td>\n",
       "      <td>0</td>\n",
       "      <td>0</td>\n",
       "      <td>1</td>\n",
       "      <td>0</td>\n",
       "      <td>3249</td>\n",
       "      <td>0.0</td>\n",
       "    </tr>\n",
       "  </tbody>\n",
       "</table>\n",
       "<p>5 rows × 24 columns</p>\n",
       "</div>"
      ],
      "text/plain": [
       "   Exposure  LicAge  Gender  MariStat  DrivAge  HasKmLimit  BonusMalus  \\\n",
       "0     0.083     332       0         0       46           0          50   \n",
       "1     0.916     333       0         0       46           0          50   \n",
       "2     0.550     173       0         0       32           0          68   \n",
       "3     0.089     364       1         0       52           0          50   \n",
       "4     0.233     426       0         0       57           0          50   \n",
       "\n",
       "   ClaimAmount  ClaimInd  OutUseNb     ...       VehUsage_Professional run  \\\n",
       "0          0.0         0       0.0     ...                               0   \n",
       "1          0.0         0       0.0     ...                               0   \n",
       "2          0.0         0       0.0     ...                               0   \n",
       "3          0.0         0       0.0     ...                               0   \n",
       "4          0.0         0       0.0     ...                               0   \n",
       "\n",
       "   SocioCateg_CSP1  SocioCateg_CSP2  SocioCateg_CSP3  SocioCateg_CSP4  \\\n",
       "0                0                0                0                0   \n",
       "1                0                0                0                0   \n",
       "2                0                0                0                0   \n",
       "3                0                0                0                0   \n",
       "4                0                0                0                0   \n",
       "\n",
       "   SocioCateg_CSP5  SocioCateg_CSP6  SocioCateg_CSP7  DrivAgeSq  ClaimsCount  \n",
       "0                1                0                0       2116          0.0  \n",
       "1                1                0                0       2116          0.0  \n",
       "2                1                0                0       1024          0.0  \n",
       "3                1                0                0       2704          0.0  \n",
       "4                0                1                0       3249          0.0  \n",
       "\n",
       "[5 rows x 24 columns]"
      ]
     },
     "execution_count": 23,
     "metadata": {},
     "output_type": "execute_result"
    }
   ],
   "source": [
    "df.head()"
   ]
  },
  {
   "cell_type": "code",
   "execution_count": 24,
   "metadata": {},
   "outputs": [
    {
     "data": {
      "text/plain": [
       "0    104286\n",
       "1     10869\n",
       "Name: ClaimInd, dtype: int64"
      ]
     },
     "execution_count": 24,
     "metadata": {},
     "output_type": "execute_result"
    }
   ],
   "source": [
    "df['ClaimInd'].value_counts()"
   ]
  },
  {
   "cell_type": "code",
   "execution_count": 25,
   "metadata": {
    "scrolled": true
   },
   "outputs": [
    {
     "data": {
      "text/plain": [
       "9.438582779731666"
      ]
     },
     "execution_count": 25,
     "metadata": {},
     "output_type": "execute_result"
    }
   ],
   "source": [
    "(10869 * 100) / (104286 + 10869)"
   ]
  },
  {
   "cell_type": "markdown",
   "metadata": {},
   "source": [
    "Целевая переменная не сбалансирована."
   ]
  },
  {
   "cell_type": "code",
   "execution_count": 43,
   "metadata": {
    "colab": {},
    "colab_type": "code",
    "id": "EgD9hvYAIury"
   },
   "outputs": [],
   "source": [
    "# Разбиение датасета на train/val/test\n",
    "\n",
    "x_train_ind, x_test_ind, y_train_ind, y_test_ind = train_test_split(df.drop(['ClaimInd', 'ClaimAmount', 'ClaimsCount'], axis=1), df.ClaimInd, test_size=0.3, random_state=1)\n",
    "x_valid_ind, x_test_ind, y_valid_ind, y_test_ind = train_test_split(x_train_ind, y_train_ind, test_size=0.5, random_state=1)"
   ]
  },
  {
   "cell_type": "code",
   "execution_count": 44,
   "metadata": {
    "colab": {
     "base_uri": "https://localhost:8080/"
    },
    "colab_type": "code",
    "executionInfo": {
     "elapsed": 87289,
     "status": "ok",
     "timestamp": 1576771260224,
     "user": {
      "displayName": "Aleksandr Shchegolev",
      "photoUrl": "",
      "userId": "00652555022685556919"
     },
     "user_tz": -180
    },
    "id": "Bt_i4clofGFR",
    "outputId": "aa0a2454-a71d-4d0e-fb5b-1903137b4e18",
    "scrolled": true
   },
   "outputs": [
    {
     "name": "stdout",
     "output_type": "stream",
     "text": [
      "Parse progress: |█████████████████████████████████████████████████████████| 100%\n",
      "Parse progress: |█████████████████████████████████████████████████████████| 100%\n",
      "Parse progress: |█████████████████████████████████████████████████████████| 100%\n"
     ]
    }
   ],
   "source": [
    "# Преобразование в H2O-Frame\n",
    "\n",
    "h2o_train_ind = h2o.H2OFrame(pd.concat([x_train_ind, y_train_ind], axis=1))\n",
    "h2o_valid_ind = h2o.H2OFrame(pd.concat([x_valid_ind, y_valid_ind], axis=1))\n",
    "h2o_test_ind = h2o.H2OFrame(pd.concat([x_test_ind, y_test_ind], axis=1))"
   ]
  },
  {
   "cell_type": "code",
   "execution_count": 45,
   "metadata": {
    "colab": {
     "base_uri": "https://localhost:8080/"
    },
    "colab_type": "code",
    "executionInfo": {
     "elapsed": 87284,
     "status": "ok",
     "timestamp": 1576771260224,
     "user": {
      "displayName": "Aleksandr Shchegolev",
      "photoUrl": "",
      "userId": "00652555022685556919"
     },
     "user_tz": -180
    },
    "id": "5ETBVckIjIRC",
    "outputId": "323cda4d-7a22-4c17-a4bf-6dc878bb9c37"
   },
   "outputs": [],
   "source": [
    "# Преобразуем целевую переменную ClaimInd в категориальную при помощи метода asfactor во всех наборах данных\n",
    "\n",
    "h2o_train_ind['ClaimInd'] = h2o_train_ind['ClaimInd'].asfactor()\n",
    "h2o_valid_ind['ClaimInd'] = h2o_valid_ind['ClaimInd'].asfactor()\n",
    "h2o_test_ind['ClaimInd'] = h2o_test_ind['ClaimInd'].asfactor()"
   ]
  },
  {
   "cell_type": "code",
   "execution_count": 46,
   "metadata": {
    "colab": {
     "base_uri": "https://localhost:8080/"
    },
    "colab_type": "code",
    "executionInfo": {
     "elapsed": 87275,
     "status": "ok",
     "timestamp": 1576771260225,
     "user": {
      "displayName": "Aleksandr Shchegolev",
      "photoUrl": "",
      "userId": "00652555022685556919"
     },
     "user_tz": -180
    },
    "id": "xoT7OG9ljwKY",
    "outputId": "874df7ed-3b2c-41e7-e32a-52c3f26b7df0"
   },
   "outputs": [
    {
     "name": "stdout",
     "output_type": "stream",
     "text": [
      "glm Model Build progress: |███████████████████████████████████████████████| 100%\n"
     ]
    }
   ],
   "source": [
    "# Инициализируем и обучим GLM модель c кросс-валидацией\n",
    "\n",
    "glm_binomial = H2OGeneralizedLinearEstimator(family = \"binomial\", nfolds=5)\n",
    "glm_binomial.train(y=\"ClaimInd\", x = h2o_train_ind.names[1:-1], training_frame = h2o_train_ind, validation_frame = h2o_valid_ind)"
   ]
  },
  {
   "cell_type": "code",
   "execution_count": 47,
   "metadata": {
    "colab": {
     "base_uri": "https://localhost:8080/"
    },
    "colab_type": "code",
    "executionInfo": {
     "elapsed": 87269,
     "status": "ok",
     "timestamp": 1576771260225,
     "user": {
      "displayName": "Aleksandr Shchegolev",
      "photoUrl": "",
      "userId": "00652555022685556919"
     },
     "user_tz": -180
    },
    "id": "WXbmbcSDoOXs",
    "outputId": "f0b1bda6-3cc3-4fa3-99b6-b7d03e1b7480"
   },
   "outputs": [
    {
     "name": "stdout",
     "output_type": "stream",
     "text": [
      "\n",
      "GLM Model: summary\n"
     ]
    },
    {
     "data": {
      "text/html": [
       "<div>\n",
       "<style scoped>\n",
       "    .dataframe tbody tr th:only-of-type {\n",
       "        vertical-align: middle;\n",
       "    }\n",
       "\n",
       "    .dataframe tbody tr th {\n",
       "        vertical-align: top;\n",
       "    }\n",
       "\n",
       "    .dataframe thead th {\n",
       "        text-align: right;\n",
       "    }\n",
       "</style>\n",
       "<table border=\"1\" class=\"dataframe\">\n",
       "  <thead>\n",
       "    <tr style=\"text-align: right;\">\n",
       "      <th></th>\n",
       "      <th></th>\n",
       "      <th>family</th>\n",
       "      <th>link</th>\n",
       "      <th>regularization</th>\n",
       "      <th>number_of_predictors_total</th>\n",
       "      <th>number_of_active_predictors</th>\n",
       "      <th>number_of_iterations</th>\n",
       "      <th>training_frame</th>\n",
       "    </tr>\n",
       "  </thead>\n",
       "  <tbody>\n",
       "    <tr>\n",
       "      <th>0</th>\n",
       "      <td></td>\n",
       "      <td>binomial</td>\n",
       "      <td>logit</td>\n",
       "      <td>Elastic Net (alpha = 0.5, lambda = 2.368E-5 )</td>\n",
       "      <td>20</td>\n",
       "      <td>20</td>\n",
       "      <td>3</td>\n",
       "      <td>py_4_sid_9931</td>\n",
       "    </tr>\n",
       "  </tbody>\n",
       "</table>\n",
       "</div>"
      ],
      "text/plain": [
       "       family   link                                 regularization  \\\n",
       "0    binomial  logit  Elastic Net (alpha = 0.5, lambda = 2.368E-5 )   \n",
       "\n",
       "   number_of_predictors_total number_of_active_predictors  \\\n",
       "0                          20                          20   \n",
       "\n",
       "   number_of_iterations training_frame  \n",
       "0                     3  py_4_sid_9931  "
      ]
     },
     "metadata": {},
     "output_type": "display_data"
    },
    {
     "data": {
      "text/plain": []
     },
     "execution_count": 47,
     "metadata": {},
     "output_type": "execute_result"
    }
   ],
   "source": [
    "# Параметры модели: распределение, функция связи, гиперпараметры регуляризации, количество использованных объясняющих переменных\n",
    "\n",
    "glm_binomial.summary()"
   ]
  },
  {
   "cell_type": "code",
   "execution_count": 48,
   "metadata": {
    "colab": {
     "base_uri": "https://localhost:8080/"
    },
    "colab_type": "code",
    "executionInfo": {
     "elapsed": 87264,
     "status": "ok",
     "timestamp": 1576771260225,
     "user": {
      "displayName": "Aleksandr Shchegolev",
      "photoUrl": "",
      "userId": "00652555022685556919"
     },
     "user_tz": -180
    },
    "id": "mUvoWpAkoRir",
    "outputId": "9cfa94ff-b9db-4a0f-8c16-405c962168ae"
   },
   "outputs": [
    {
     "data": {
      "text/html": [
       "<div>\n",
       "<style scoped>\n",
       "    .dataframe tbody tr th:only-of-type {\n",
       "        vertical-align: middle;\n",
       "    }\n",
       "\n",
       "    .dataframe tbody tr th {\n",
       "        vertical-align: top;\n",
       "    }\n",
       "\n",
       "    .dataframe thead th {\n",
       "        text-align: right;\n",
       "    }\n",
       "</style>\n",
       "<table border=\"1\" class=\"dataframe\">\n",
       "  <thead>\n",
       "    <tr style=\"text-align: right;\">\n",
       "      <th></th>\n",
       "      <th></th>\n",
       "      <th>mean</th>\n",
       "      <th>sd</th>\n",
       "      <th>cv_1_valid</th>\n",
       "      <th>cv_2_valid</th>\n",
       "      <th>cv_3_valid</th>\n",
       "      <th>cv_4_valid</th>\n",
       "      <th>cv_5_valid</th>\n",
       "    </tr>\n",
       "  </thead>\n",
       "  <tbody>\n",
       "    <tr>\n",
       "      <th>0</th>\n",
       "      <td>accuracy</td>\n",
       "      <td>0.547919</td>\n",
       "      <td>0.08244557</td>\n",
       "      <td>0.61696786</td>\n",
       "      <td>0.42785516</td>\n",
       "      <td>0.53604215</td>\n",
       "      <td>0.5251096</td>\n",
       "      <td>0.63362014</td>\n",
       "    </tr>\n",
       "    <tr>\n",
       "      <th>1</th>\n",
       "      <td>auc</td>\n",
       "      <td>0.56286985</td>\n",
       "      <td>0.006894399</td>\n",
       "      <td>0.5654949</td>\n",
       "      <td>0.5543302</td>\n",
       "      <td>0.5587669</td>\n",
       "      <td>0.5725319</td>\n",
       "      <td>0.56322545</td>\n",
       "    </tr>\n",
       "    <tr>\n",
       "      <th>2</th>\n",
       "      <td>aucpr</td>\n",
       "      <td>0.113643676</td>\n",
       "      <td>0.0018182492</td>\n",
       "      <td>0.11432205</td>\n",
       "      <td>0.112301566</td>\n",
       "      <td>0.11575254</td>\n",
       "      <td>0.11457506</td>\n",
       "      <td>0.11126715</td>\n",
       "    </tr>\n",
       "    <tr>\n",
       "      <th>3</th>\n",
       "      <td>err</td>\n",
       "      <td>0.45208102</td>\n",
       "      <td>0.08244557</td>\n",
       "      <td>0.38303217</td>\n",
       "      <td>0.57214487</td>\n",
       "      <td>0.46395782</td>\n",
       "      <td>0.4748904</td>\n",
       "      <td>0.36637986</td>\n",
       "    </tr>\n",
       "    <tr>\n",
       "      <th>4</th>\n",
       "      <td>err_count</td>\n",
       "      <td>7287.0</td>\n",
       "      <td>1323.9227</td>\n",
       "      <td>6253.0</td>\n",
       "      <td>9243.0</td>\n",
       "      <td>7479.0</td>\n",
       "      <td>7584.0</td>\n",
       "      <td>5876.0</td>\n",
       "    </tr>\n",
       "    <tr>\n",
       "      <th>5</th>\n",
       "      <td>f0point5</td>\n",
       "      <td>0.13463415</td>\n",
       "      <td>0.003396567</td>\n",
       "      <td>0.13739729</td>\n",
       "      <td>0.130117</td>\n",
       "      <td>0.13834237</td>\n",
       "      <td>0.132551</td>\n",
       "      <td>0.13476314</td>\n",
       "    </tr>\n",
       "    <tr>\n",
       "      <th>6</th>\n",
       "      <td>f1</td>\n",
       "      <td>0.18718885</td>\n",
       "      <td>0.0036467107</td>\n",
       "      <td>0.18697178</td>\n",
       "      <td>0.18671359</td>\n",
       "      <td>0.19276848</td>\n",
       "      <td>0.18696398</td>\n",
       "      <td>0.18252644</td>\n",
       "    </tr>\n",
       "    <tr>\n",
       "      <th>7</th>\n",
       "      <td>f2</td>\n",
       "      <td>0.30812988</td>\n",
       "      <td>0.019759703</td>\n",
       "      <td>0.29251423</td>\n",
       "      <td>0.33044723</td>\n",
       "      <td>0.3177936</td>\n",
       "      <td>0.3171601</td>\n",
       "      <td>0.28273425</td>\n",
       "    </tr>\n",
       "    <tr>\n",
       "      <th>8</th>\n",
       "      <td>lift_top_group</td>\n",
       "      <td>1.4666644</td>\n",
       "      <td>0.27526635</td>\n",
       "      <td>1.5583981</td>\n",
       "      <td>1.0208288</td>\n",
       "      <td>1.4348853</td>\n",
       "      <td>1.5585115</td>\n",
       "      <td>1.7606986</td>\n",
       "    </tr>\n",
       "    <tr>\n",
       "      <th>9</th>\n",
       "      <td>logloss</td>\n",
       "      <td>0.3112646</td>\n",
       "      <td>0.007344858</td>\n",
       "      <td>0.3090959</td>\n",
       "      <td>0.3164358</td>\n",
       "      <td>0.32124746</td>\n",
       "      <td>0.3052057</td>\n",
       "      <td>0.30433822</td>\n",
       "    </tr>\n",
       "    <tr>\n",
       "      <th>10</th>\n",
       "      <td>max_per_class_error</td>\n",
       "      <td>0.5264635</td>\n",
       "      <td>0.053940482</td>\n",
       "      <td>0.530985</td>\n",
       "      <td>0.59902686</td>\n",
       "      <td>0.46657488</td>\n",
       "      <td>0.48168588</td>\n",
       "      <td>0.55404484</td>\n",
       "    </tr>\n",
       "    <tr>\n",
       "      <th>11</th>\n",
       "      <td>mcc</td>\n",
       "      <td>0.057652917</td>\n",
       "      <td>0.005988436</td>\n",
       "      <td>0.06097438</td>\n",
       "      <td>0.048291508</td>\n",
       "      <td>0.055781834</td>\n",
       "      <td>0.063842736</td>\n",
       "      <td>0.05937414</td>\n",
       "    </tr>\n",
       "    <tr>\n",
       "      <th>12</th>\n",
       "      <td>mean_per_class_accuracy</td>\n",
       "      <td>0.5483241</td>\n",
       "      <td>0.0056291074</td>\n",
       "      <td>0.5506581</td>\n",
       "      <td>0.539898</td>\n",
       "      <td>0.5466499</td>\n",
       "      <td>0.55515164</td>\n",
       "      <td>0.549263</td>\n",
       "    </tr>\n",
       "    <tr>\n",
       "      <th>13</th>\n",
       "      <td>mean_per_class_error</td>\n",
       "      <td>0.4516759</td>\n",
       "      <td>0.0056291074</td>\n",
       "      <td>0.44934186</td>\n",
       "      <td>0.46010205</td>\n",
       "      <td>0.45335013</td>\n",
       "      <td>0.44484836</td>\n",
       "      <td>0.450737</td>\n",
       "    </tr>\n",
       "    <tr>\n",
       "      <th>14</th>\n",
       "      <td>mse</td>\n",
       "      <td>0.085401125</td>\n",
       "      <td>0.0025584374</td>\n",
       "      <td>0.08469111</td>\n",
       "      <td>0.08715487</td>\n",
       "      <td>0.088898584</td>\n",
       "      <td>0.08330274</td>\n",
       "      <td>0.08295834</td>\n",
       "    </tr>\n",
       "    <tr>\n",
       "      <th>15</th>\n",
       "      <td>null_deviance</td>\n",
       "      <td>10103.202</td>\n",
       "      <td>262.38248</td>\n",
       "      <td>10170.046</td>\n",
       "      <td>10272.021</td>\n",
       "      <td>10410.985</td>\n",
       "      <td>9829.076</td>\n",
       "      <td>9833.88</td>\n",
       "    </tr>\n",
       "    <tr>\n",
       "      <th>16</th>\n",
       "      <td>pr_auc</td>\n",
       "      <td>0.113643676</td>\n",
       "      <td>0.0018182492</td>\n",
       "      <td>0.11432205</td>\n",
       "      <td>0.112301566</td>\n",
       "      <td>0.11575254</td>\n",
       "      <td>0.11457506</td>\n",
       "      <td>0.11126715</td>\n",
       "    </tr>\n",
       "    <tr>\n",
       "      <th>17</th>\n",
       "      <td>precision</td>\n",
       "      <td>0.11343743</td>\n",
       "      <td>0.0036927382</td>\n",
       "      <td>0.11675869</td>\n",
       "      <td>0.10824321</td>\n",
       "      <td>0.11642764</td>\n",
       "      <td>0.11101209</td>\n",
       "      <td>0.1147455</td>\n",
       "    </tr>\n",
       "    <tr>\n",
       "      <th>18</th>\n",
       "      <td>r2</td>\n",
       "      <td>0.0038966907</td>\n",
       "      <td>0.0010672429</td>\n",
       "      <td>0.0046515623</td>\n",
       "      <td>0.0026863103</td>\n",
       "      <td>0.002878452</td>\n",
       "      <td>0.005079884</td>\n",
       "      <td>0.004187245</td>\n",
       "    </tr>\n",
       "    <tr>\n",
       "      <th>19</th>\n",
       "      <td>recall</td>\n",
       "      <td>0.54913133</td>\n",
       "      <td>0.09465204</td>\n",
       "      <td>0.469015</td>\n",
       "      <td>0.67882276</td>\n",
       "      <td>0.5598746</td>\n",
       "      <td>0.59198916</td>\n",
       "      <td>0.44595513</td>\n",
       "    </tr>\n",
       "    <tr>\n",
       "      <th>20</th>\n",
       "      <td>residual_deviance</td>\n",
       "      <td>10036.652</td>\n",
       "      <td>273.60318</td>\n",
       "      <td>10091.98</td>\n",
       "      <td>10224.041</td>\n",
       "      <td>10357.019</td>\n",
       "      <td>9748.27</td>\n",
       "      <td>9761.952</td>\n",
       "    </tr>\n",
       "    <tr>\n",
       "      <th>21</th>\n",
       "      <td>rmse</td>\n",
       "      <td>0.2922086</td>\n",
       "      <td>0.0043662656</td>\n",
       "      <td>0.29101735</td>\n",
       "      <td>0.29522005</td>\n",
       "      <td>0.29815865</td>\n",
       "      <td>0.28862214</td>\n",
       "      <td>0.2880249</td>\n",
       "    </tr>\n",
       "    <tr>\n",
       "      <th>22</th>\n",
       "      <td>specificity</td>\n",
       "      <td>0.5475169</td>\n",
       "      <td>0.1009346</td>\n",
       "      <td>0.6323013</td>\n",
       "      <td>0.40097314</td>\n",
       "      <td>0.53342515</td>\n",
       "      <td>0.5183141</td>\n",
       "      <td>0.6525709</td>\n",
       "    </tr>\n",
       "  </tbody>\n",
       "</table>\n",
       "</div>"
      ],
      "text/plain": [
       "                                     mean            sd    cv_1_valid  \\\n",
       "0                  accuracy      0.547919    0.08244557    0.61696786   \n",
       "1                       auc    0.56286985   0.006894399     0.5654949   \n",
       "2                     aucpr   0.113643676  0.0018182492    0.11432205   \n",
       "3                       err    0.45208102    0.08244557    0.38303217   \n",
       "4                 err_count        7287.0     1323.9227        6253.0   \n",
       "5                  f0point5    0.13463415   0.003396567    0.13739729   \n",
       "6                        f1    0.18718885  0.0036467107    0.18697178   \n",
       "7                        f2    0.30812988   0.019759703    0.29251423   \n",
       "8            lift_top_group     1.4666644    0.27526635     1.5583981   \n",
       "9                   logloss     0.3112646   0.007344858     0.3090959   \n",
       "10      max_per_class_error     0.5264635   0.053940482      0.530985   \n",
       "11                      mcc   0.057652917   0.005988436    0.06097438   \n",
       "12  mean_per_class_accuracy     0.5483241  0.0056291074     0.5506581   \n",
       "13     mean_per_class_error     0.4516759  0.0056291074    0.44934186   \n",
       "14                      mse   0.085401125  0.0025584374    0.08469111   \n",
       "15            null_deviance     10103.202     262.38248     10170.046   \n",
       "16                   pr_auc   0.113643676  0.0018182492    0.11432205   \n",
       "17                precision    0.11343743  0.0036927382    0.11675869   \n",
       "18                       r2  0.0038966907  0.0010672429  0.0046515623   \n",
       "19                   recall    0.54913133    0.09465204      0.469015   \n",
       "20        residual_deviance     10036.652     273.60318      10091.98   \n",
       "21                     rmse     0.2922086  0.0043662656    0.29101735   \n",
       "22              specificity     0.5475169     0.1009346     0.6323013   \n",
       "\n",
       "      cv_2_valid   cv_3_valid   cv_4_valid   cv_5_valid  \n",
       "0     0.42785516   0.53604215    0.5251096   0.63362014  \n",
       "1      0.5543302    0.5587669    0.5725319   0.56322545  \n",
       "2    0.112301566   0.11575254   0.11457506   0.11126715  \n",
       "3     0.57214487   0.46395782    0.4748904   0.36637986  \n",
       "4         9243.0       7479.0       7584.0       5876.0  \n",
       "5       0.130117   0.13834237     0.132551   0.13476314  \n",
       "6     0.18671359   0.19276848   0.18696398   0.18252644  \n",
       "7     0.33044723    0.3177936    0.3171601   0.28273425  \n",
       "8      1.0208288    1.4348853    1.5585115    1.7606986  \n",
       "9      0.3164358   0.32124746    0.3052057   0.30433822  \n",
       "10    0.59902686   0.46657488   0.48168588   0.55404484  \n",
       "11   0.048291508  0.055781834  0.063842736   0.05937414  \n",
       "12      0.539898    0.5466499   0.55515164     0.549263  \n",
       "13    0.46010205   0.45335013   0.44484836     0.450737  \n",
       "14    0.08715487  0.088898584   0.08330274   0.08295834  \n",
       "15     10272.021    10410.985     9829.076      9833.88  \n",
       "16   0.112301566   0.11575254   0.11457506   0.11126715  \n",
       "17    0.10824321   0.11642764   0.11101209    0.1147455  \n",
       "18  0.0026863103  0.002878452  0.005079884  0.004187245  \n",
       "19    0.67882276    0.5598746   0.59198916   0.44595513  \n",
       "20     10224.041    10357.019      9748.27     9761.952  \n",
       "21    0.29522005   0.29815865   0.28862214    0.2880249  \n",
       "22    0.40097314   0.53342515    0.5183141    0.6525709  "
      ]
     },
     "execution_count": 48,
     "metadata": {},
     "output_type": "execute_result"
    }
   ],
   "source": [
    "# Метрики качества модели - по всем данным и на кросс-валидации\n",
    "\n",
    "glm_binomial.cross_validation_metrics_summary().as_data_frame()"
   ]
  },
  {
   "cell_type": "code",
   "execution_count": 49,
   "metadata": {
    "colab": {
     "base_uri": "https://localhost:8080/"
    },
    "colab_type": "code",
    "executionInfo": {
     "elapsed": 87259,
     "status": "ok",
     "timestamp": 1576771260226,
     "user": {
      "displayName": "Aleksandr Shchegolev",
      "photoUrl": "",
      "userId": "00652555022685556919"
     },
     "user_tz": -180
    },
    "id": "D8USRdSmoYy_",
    "outputId": "596810a0-a21f-4a78-e8d1-e660c98e2ea9"
   },
   "outputs": [
    {
     "data": {
      "text/html": [
       "<div>\n",
       "<style scoped>\n",
       "    .dataframe tbody tr th:only-of-type {\n",
       "        vertical-align: middle;\n",
       "    }\n",
       "\n",
       "    .dataframe tbody tr th {\n",
       "        vertical-align: top;\n",
       "    }\n",
       "\n",
       "    .dataframe thead th {\n",
       "        text-align: right;\n",
       "    }\n",
       "</style>\n",
       "<table border=\"1\" class=\"dataframe\">\n",
       "  <thead>\n",
       "    <tr style=\"text-align: right;\">\n",
       "      <th></th>\n",
       "      <th>names</th>\n",
       "      <th>coefficients</th>\n",
       "      <th>standardized_coefficients</th>\n",
       "    </tr>\n",
       "  </thead>\n",
       "  <tbody>\n",
       "    <tr>\n",
       "      <th>0</th>\n",
       "      <td>Intercept</td>\n",
       "      <td>-2.534238</td>\n",
       "      <td>-2.279643</td>\n",
       "    </tr>\n",
       "    <tr>\n",
       "      <th>1</th>\n",
       "      <td>LicAge</td>\n",
       "      <td>-0.000312</td>\n",
       "      <td>-0.049906</td>\n",
       "    </tr>\n",
       "    <tr>\n",
       "      <th>2</th>\n",
       "      <td>Gender</td>\n",
       "      <td>0.010311</td>\n",
       "      <td>0.004998</td>\n",
       "    </tr>\n",
       "    <tr>\n",
       "      <th>3</th>\n",
       "      <td>MariStat</td>\n",
       "      <td>-0.066143</td>\n",
       "      <td>-0.023827</td>\n",
       "    </tr>\n",
       "    <tr>\n",
       "      <th>4</th>\n",
       "      <td>DrivAge</td>\n",
       "      <td>-0.001085</td>\n",
       "      <td>-0.016265</td>\n",
       "    </tr>\n",
       "    <tr>\n",
       "      <th>5</th>\n",
       "      <td>HasKmLimit</td>\n",
       "      <td>-0.366059</td>\n",
       "      <td>-0.114316</td>\n",
       "    </tr>\n",
       "    <tr>\n",
       "      <th>6</th>\n",
       "      <td>BonusMalus</td>\n",
       "      <td>0.006341</td>\n",
       "      <td>0.097335</td>\n",
       "    </tr>\n",
       "    <tr>\n",
       "      <th>7</th>\n",
       "      <td>OutUseNb</td>\n",
       "      <td>0.061289</td>\n",
       "      <td>0.042639</td>\n",
       "    </tr>\n",
       "    <tr>\n",
       "      <th>8</th>\n",
       "      <td>RiskArea</td>\n",
       "      <td>0.009015</td>\n",
       "      <td>0.019975</td>\n",
       "    </tr>\n",
       "    <tr>\n",
       "      <th>9</th>\n",
       "      <td>VehUsage_Private</td>\n",
       "      <td>-0.146273</td>\n",
       "      <td>-0.069170</td>\n",
       "    </tr>\n",
       "    <tr>\n",
       "      <th>10</th>\n",
       "      <td>VehUsage_Private+trip to office</td>\n",
       "      <td>-0.020743</td>\n",
       "      <td>-0.010364</td>\n",
       "    </tr>\n",
       "    <tr>\n",
       "      <th>11</th>\n",
       "      <td>VehUsage_Professional</td>\n",
       "      <td>0.226068</td>\n",
       "      <td>0.074715</td>\n",
       "    </tr>\n",
       "    <tr>\n",
       "      <th>12</th>\n",
       "      <td>VehUsage_Professional run</td>\n",
       "      <td>0.296197</td>\n",
       "      <td>0.039739</td>\n",
       "    </tr>\n",
       "    <tr>\n",
       "      <th>13</th>\n",
       "      <td>SocioCateg_CSP1</td>\n",
       "      <td>-0.090657</td>\n",
       "      <td>-0.013736</td>\n",
       "    </tr>\n",
       "    <tr>\n",
       "      <th>14</th>\n",
       "      <td>SocioCateg_CSP2</td>\n",
       "      <td>-0.138184</td>\n",
       "      <td>-0.023021</td>\n",
       "    </tr>\n",
       "    <tr>\n",
       "      <th>15</th>\n",
       "      <td>SocioCateg_CSP3</td>\n",
       "      <td>0.126034</td>\n",
       "      <td>0.013074</td>\n",
       "    </tr>\n",
       "    <tr>\n",
       "      <th>16</th>\n",
       "      <td>SocioCateg_CSP4</td>\n",
       "      <td>0.042206</td>\n",
       "      <td>0.010554</td>\n",
       "    </tr>\n",
       "    <tr>\n",
       "      <th>17</th>\n",
       "      <td>SocioCateg_CSP5</td>\n",
       "      <td>-0.016242</td>\n",
       "      <td>-0.007721</td>\n",
       "    </tr>\n",
       "    <tr>\n",
       "      <th>18</th>\n",
       "      <td>SocioCateg_CSP6</td>\n",
       "      <td>0.059170</td>\n",
       "      <td>0.024302</td>\n",
       "    </tr>\n",
       "    <tr>\n",
       "      <th>19</th>\n",
       "      <td>SocioCateg_CSP7</td>\n",
       "      <td>-0.178004</td>\n",
       "      <td>-0.001881</td>\n",
       "    </tr>\n",
       "    <tr>\n",
       "      <th>20</th>\n",
       "      <td>DrivAgeSq</td>\n",
       "      <td>0.000008</td>\n",
       "      <td>0.012084</td>\n",
       "    </tr>\n",
       "  </tbody>\n",
       "</table>\n",
       "</div>"
      ],
      "text/plain": [
       "                              names  coefficients  standardized_coefficients\n",
       "0                         Intercept     -2.534238                  -2.279643\n",
       "1                            LicAge     -0.000312                  -0.049906\n",
       "2                            Gender      0.010311                   0.004998\n",
       "3                          MariStat     -0.066143                  -0.023827\n",
       "4                           DrivAge     -0.001085                  -0.016265\n",
       "5                        HasKmLimit     -0.366059                  -0.114316\n",
       "6                        BonusMalus      0.006341                   0.097335\n",
       "7                          OutUseNb      0.061289                   0.042639\n",
       "8                          RiskArea      0.009015                   0.019975\n",
       "9                  VehUsage_Private     -0.146273                  -0.069170\n",
       "10  VehUsage_Private+trip to office     -0.020743                  -0.010364\n",
       "11            VehUsage_Professional      0.226068                   0.074715\n",
       "12        VehUsage_Professional run      0.296197                   0.039739\n",
       "13                  SocioCateg_CSP1     -0.090657                  -0.013736\n",
       "14                  SocioCateg_CSP2     -0.138184                  -0.023021\n",
       "15                  SocioCateg_CSP3      0.126034                   0.013074\n",
       "16                  SocioCateg_CSP4      0.042206                   0.010554\n",
       "17                  SocioCateg_CSP5     -0.016242                  -0.007721\n",
       "18                  SocioCateg_CSP6      0.059170                   0.024302\n",
       "19                  SocioCateg_CSP7     -0.178004                  -0.001881\n",
       "20                        DrivAgeSq      0.000008                   0.012084"
      ]
     },
     "execution_count": 49,
     "metadata": {},
     "output_type": "execute_result"
    }
   ],
   "source": [
    "# Таблица коэффициентов модели (в зависимости от модели могут выводиться также стандартная ошибка, z-score и p-value)\n",
    "\n",
    "glm_binomial._model_json['output']['coefficients_table'].as_data_frame()"
   ]
  },
  {
   "cell_type": "code",
   "execution_count": 50,
   "metadata": {
    "colab": {
     "base_uri": "https://localhost:8080/"
    },
    "colab_type": "code",
    "executionInfo": {
     "elapsed": 87254,
     "status": "ok",
     "timestamp": 1576771260226,
     "user": {
      "displayName": "Aleksandr Shchegolev",
      "photoUrl": "",
      "userId": "00652555022685556919"
     },
     "user_tz": -180
    },
    "id": "KZ_XqTchoiYX",
    "outputId": "a48d5223-c9f2-479e-9f36-abd09f9b3947"
   },
   "outputs": [
    {
     "data": {
      "text/html": [
       "<div>\n",
       "<style scoped>\n",
       "    .dataframe tbody tr th:only-of-type {\n",
       "        vertical-align: middle;\n",
       "    }\n",
       "\n",
       "    .dataframe tbody tr th {\n",
       "        vertical-align: top;\n",
       "    }\n",
       "\n",
       "    .dataframe thead th {\n",
       "        text-align: right;\n",
       "    }\n",
       "</style>\n",
       "<table border=\"1\" class=\"dataframe\">\n",
       "  <thead>\n",
       "    <tr style=\"text-align: right;\">\n",
       "      <th></th>\n",
       "      <th>overall</th>\n",
       "      <th>0</th>\n",
       "      <th>1</th>\n",
       "      <th>2</th>\n",
       "      <th>3</th>\n",
       "      <th>4</th>\n",
       "    </tr>\n",
       "  </thead>\n",
       "  <tbody>\n",
       "    <tr>\n",
       "      <th>BonusMalus</th>\n",
       "      <td>0.09734</td>\n",
       "      <td>0.09532</td>\n",
       "      <td>0.10271</td>\n",
       "      <td>0.09799</td>\n",
       "      <td>0.09584</td>\n",
       "      <td>0.09390</td>\n",
       "    </tr>\n",
       "    <tr>\n",
       "      <th>DrivAge</th>\n",
       "      <td>-0.01626</td>\n",
       "      <td>0.00000</td>\n",
       "      <td>-0.00825</td>\n",
       "      <td>-0.06719</td>\n",
       "      <td>-0.03556</td>\n",
       "      <td>-0.00207</td>\n",
       "    </tr>\n",
       "    <tr>\n",
       "      <th>DrivAgeSq</th>\n",
       "      <td>0.01208</td>\n",
       "      <td>0.00000</td>\n",
       "      <td>0.00000</td>\n",
       "      <td>0.03765</td>\n",
       "      <td>0.03064</td>\n",
       "      <td>0.02684</td>\n",
       "    </tr>\n",
       "    <tr>\n",
       "      <th>Gender</th>\n",
       "      <td>0.00500</td>\n",
       "      <td>0.00913</td>\n",
       "      <td>0.00000</td>\n",
       "      <td>0.00593</td>\n",
       "      <td>-0.00676</td>\n",
       "      <td>0.01718</td>\n",
       "    </tr>\n",
       "    <tr>\n",
       "      <th>HasKmLimit</th>\n",
       "      <td>-0.11432</td>\n",
       "      <td>-0.10352</td>\n",
       "      <td>-0.11824</td>\n",
       "      <td>-0.12745</td>\n",
       "      <td>-0.11287</td>\n",
       "      <td>-0.11097</td>\n",
       "    </tr>\n",
       "    <tr>\n",
       "      <th>Intercept</th>\n",
       "      <td>-2.27964</td>\n",
       "      <td>-2.27682</td>\n",
       "      <td>-2.28745</td>\n",
       "      <td>-2.29369</td>\n",
       "      <td>-2.27133</td>\n",
       "      <td>-2.27078</td>\n",
       "    </tr>\n",
       "    <tr>\n",
       "      <th>LicAge</th>\n",
       "      <td>-0.04991</td>\n",
       "      <td>-0.05077</td>\n",
       "      <td>-0.04192</td>\n",
       "      <td>-0.01125</td>\n",
       "      <td>-0.06192</td>\n",
       "      <td>-0.08503</td>\n",
       "    </tr>\n",
       "    <tr>\n",
       "      <th>MariStat</th>\n",
       "      <td>-0.02383</td>\n",
       "      <td>-0.01981</td>\n",
       "      <td>-0.01768</td>\n",
       "      <td>-0.01872</td>\n",
       "      <td>-0.03119</td>\n",
       "      <td>-0.03285</td>\n",
       "    </tr>\n",
       "    <tr>\n",
       "      <th>OutUseNb</th>\n",
       "      <td>0.04264</td>\n",
       "      <td>0.04081</td>\n",
       "      <td>0.04933</td>\n",
       "      <td>0.04794</td>\n",
       "      <td>0.03546</td>\n",
       "      <td>0.03986</td>\n",
       "    </tr>\n",
       "    <tr>\n",
       "      <th>RiskArea</th>\n",
       "      <td>0.01997</td>\n",
       "      <td>0.01695</td>\n",
       "      <td>0.02583</td>\n",
       "      <td>0.02213</td>\n",
       "      <td>0.01517</td>\n",
       "      <td>0.02031</td>\n",
       "    </tr>\n",
       "    <tr>\n",
       "      <th>SocioCateg_CSP1</th>\n",
       "      <td>-0.01374</td>\n",
       "      <td>-0.01805</td>\n",
       "      <td>-0.01129</td>\n",
       "      <td>-0.02309</td>\n",
       "      <td>-0.00493</td>\n",
       "      <td>-0.00917</td>\n",
       "    </tr>\n",
       "    <tr>\n",
       "      <th>SocioCateg_CSP2</th>\n",
       "      <td>-0.02302</td>\n",
       "      <td>-0.01944</td>\n",
       "      <td>-0.02322</td>\n",
       "      <td>-0.02124</td>\n",
       "      <td>-0.02813</td>\n",
       "      <td>-0.02064</td>\n",
       "    </tr>\n",
       "    <tr>\n",
       "      <th>SocioCateg_CSP3</th>\n",
       "      <td>0.01307</td>\n",
       "      <td>0.02316</td>\n",
       "      <td>0.01224</td>\n",
       "      <td>0.00691</td>\n",
       "      <td>0.01236</td>\n",
       "      <td>0.01500</td>\n",
       "    </tr>\n",
       "    <tr>\n",
       "      <th>SocioCateg_CSP4</th>\n",
       "      <td>0.01055</td>\n",
       "      <td>0.01889</td>\n",
       "      <td>-0.00474</td>\n",
       "      <td>0.01866</td>\n",
       "      <td>0.02051</td>\n",
       "      <td>0.00469</td>\n",
       "    </tr>\n",
       "    <tr>\n",
       "      <th>SocioCateg_CSP5</th>\n",
       "      <td>-0.00772</td>\n",
       "      <td>-0.01011</td>\n",
       "      <td>0.00214</td>\n",
       "      <td>0.00000</td>\n",
       "      <td>-0.00479</td>\n",
       "      <td>-0.01467</td>\n",
       "    </tr>\n",
       "    <tr>\n",
       "      <th>SocioCateg_CSP6</th>\n",
       "      <td>0.02430</td>\n",
       "      <td>0.02528</td>\n",
       "      <td>0.01897</td>\n",
       "      <td>0.03144</td>\n",
       "      <td>0.03462</td>\n",
       "      <td>0.01933</td>\n",
       "    </tr>\n",
       "    <tr>\n",
       "      <th>SocioCateg_CSP7</th>\n",
       "      <td>-0.00188</td>\n",
       "      <td>-0.00217</td>\n",
       "      <td>0.00377</td>\n",
       "      <td>-0.00046</td>\n",
       "      <td>-0.03411</td>\n",
       "      <td>0.00124</td>\n",
       "    </tr>\n",
       "    <tr>\n",
       "      <th>VehUsage_Private</th>\n",
       "      <td>-0.06917</td>\n",
       "      <td>-0.07000</td>\n",
       "      <td>-0.07207</td>\n",
       "      <td>-0.06241</td>\n",
       "      <td>-0.05805</td>\n",
       "      <td>-0.06865</td>\n",
       "    </tr>\n",
       "    <tr>\n",
       "      <th>VehUsage_Private+trip to office</th>\n",
       "      <td>-0.01036</td>\n",
       "      <td>0.00000</td>\n",
       "      <td>-0.01222</td>\n",
       "      <td>-0.00552</td>\n",
       "      <td>-0.00776</td>\n",
       "      <td>-0.00852</td>\n",
       "    </tr>\n",
       "    <tr>\n",
       "      <th>VehUsage_Professional</th>\n",
       "      <td>0.07471</td>\n",
       "      <td>0.08055</td>\n",
       "      <td>0.07704</td>\n",
       "      <td>0.08656</td>\n",
       "      <td>0.06394</td>\n",
       "      <td>0.07818</td>\n",
       "    </tr>\n",
       "    <tr>\n",
       "      <th>VehUsage_Professional run</th>\n",
       "      <td>0.03974</td>\n",
       "      <td>0.04180</td>\n",
       "      <td>0.03920</td>\n",
       "      <td>0.04183</td>\n",
       "      <td>0.04396</td>\n",
       "      <td>0.03677</td>\n",
       "    </tr>\n",
       "  </tbody>\n",
       "</table>\n",
       "</div>"
      ],
      "text/plain": [
       "                                 overall        0        1        2        3  \\\n",
       "BonusMalus                       0.09734  0.09532  0.10271  0.09799  0.09584   \n",
       "DrivAge                         -0.01626  0.00000 -0.00825 -0.06719 -0.03556   \n",
       "DrivAgeSq                        0.01208  0.00000  0.00000  0.03765  0.03064   \n",
       "Gender                           0.00500  0.00913  0.00000  0.00593 -0.00676   \n",
       "HasKmLimit                      -0.11432 -0.10352 -0.11824 -0.12745 -0.11287   \n",
       "Intercept                       -2.27964 -2.27682 -2.28745 -2.29369 -2.27133   \n",
       "LicAge                          -0.04991 -0.05077 -0.04192 -0.01125 -0.06192   \n",
       "MariStat                        -0.02383 -0.01981 -0.01768 -0.01872 -0.03119   \n",
       "OutUseNb                         0.04264  0.04081  0.04933  0.04794  0.03546   \n",
       "RiskArea                         0.01997  0.01695  0.02583  0.02213  0.01517   \n",
       "SocioCateg_CSP1                 -0.01374 -0.01805 -0.01129 -0.02309 -0.00493   \n",
       "SocioCateg_CSP2                 -0.02302 -0.01944 -0.02322 -0.02124 -0.02813   \n",
       "SocioCateg_CSP3                  0.01307  0.02316  0.01224  0.00691  0.01236   \n",
       "SocioCateg_CSP4                  0.01055  0.01889 -0.00474  0.01866  0.02051   \n",
       "SocioCateg_CSP5                 -0.00772 -0.01011  0.00214  0.00000 -0.00479   \n",
       "SocioCateg_CSP6                  0.02430  0.02528  0.01897  0.03144  0.03462   \n",
       "SocioCateg_CSP7                 -0.00188 -0.00217  0.00377 -0.00046 -0.03411   \n",
       "VehUsage_Private                -0.06917 -0.07000 -0.07207 -0.06241 -0.05805   \n",
       "VehUsage_Private+trip to office -0.01036  0.00000 -0.01222 -0.00552 -0.00776   \n",
       "VehUsage_Professional            0.07471  0.08055  0.07704  0.08656  0.06394   \n",
       "VehUsage_Professional run        0.03974  0.04180  0.03920  0.04183  0.04396   \n",
       "\n",
       "                                       4  \n",
       "BonusMalus                       0.09390  \n",
       "DrivAge                         -0.00207  \n",
       "DrivAgeSq                        0.02684  \n",
       "Gender                           0.01718  \n",
       "HasKmLimit                      -0.11097  \n",
       "Intercept                       -2.27078  \n",
       "LicAge                          -0.08503  \n",
       "MariStat                        -0.03285  \n",
       "OutUseNb                         0.03986  \n",
       "RiskArea                         0.02031  \n",
       "SocioCateg_CSP1                 -0.00917  \n",
       "SocioCateg_CSP2                 -0.02064  \n",
       "SocioCateg_CSP3                  0.01500  \n",
       "SocioCateg_CSP4                  0.00469  \n",
       "SocioCateg_CSP5                 -0.01467  \n",
       "SocioCateg_CSP6                  0.01933  \n",
       "SocioCateg_CSP7                  0.00124  \n",
       "VehUsage_Private                -0.06865  \n",
       "VehUsage_Private+trip to office -0.00852  \n",
       "VehUsage_Professional            0.07818  \n",
       "VehUsage_Professional run        0.03677  "
      ]
     },
     "execution_count": 50,
     "metadata": {},
     "output_type": "execute_result"
    }
   ],
   "source": [
    "# Таблица нормированных коэффициентов по всем данным и на кросс-валидации\n",
    "\n",
    "pmodels = {}\n",
    "pmodels['overall'] = glm_binomial.coef_norm()\n",
    "for x in range(len(glm_binomial.cross_validation_models())):\n",
    "    pmodels[x] = glm_binomial.cross_validation_models()[x].coef_norm()\n",
    "pd.DataFrame.from_dict(pmodels).round(5)"
   ]
  },
  {
   "cell_type": "code",
   "execution_count": 51,
   "metadata": {
    "colab": {
     "base_uri": "https://localhost:8080/"
    },
    "colab_type": "code",
    "executionInfo": {
     "elapsed": 87249,
     "status": "ok",
     "timestamp": 1576771260227,
     "user": {
      "displayName": "Aleksandr Shchegolev",
      "photoUrl": "",
      "userId": "00652555022685556919"
     },
     "user_tz": -180
    },
    "id": "T9I59UXGpYlh",
    "outputId": "b2724135-2b85-4e15-9135-c324a7b1bf75"
   },
   "outputs": [
    {
     "name": "stdout",
     "output_type": "stream",
     "text": [
      "glm prediction progress: |████████████████████████████████████████████████| 100%\n",
      "glm prediction progress: |████████████████████████████████████████████████| 100%\n",
      "glm prediction progress: |████████████████████████████████████████████████| 100%\n"
     ]
    }
   ],
   "source": [
    "# Построение прогнозных значений для обучающей, валидационной и тестовой выборок\n",
    "\n",
    "ind_train_pred = glm_binomial.predict(h2o_train_ind).as_data_frame()\n",
    "ind_valid_pred = glm_binomial.predict(h2o_valid_ind).as_data_frame()\n",
    "ind_test_pred = glm_binomial.predict(h2o_test_ind).as_data_frame()"
   ]
  },
  {
   "cell_type": "code",
   "execution_count": 52,
   "metadata": {
    "colab": {},
    "colab_type": "code",
    "id": "g00U1gQBp_Wq"
   },
   "outputs": [],
   "source": [
    "from sklearn.metrics import accuracy_score, f1_score, confusion_matrix"
   ]
  },
  {
   "cell_type": "code",
   "execution_count": 53,
   "metadata": {
    "colab": {
     "base_uri": "https://localhost:8080/"
    },
    "colab_type": "code",
    "executionInfo": {
     "elapsed": 87242,
     "status": "ok",
     "timestamp": 1576771260228,
     "user": {
      "displayName": "Aleksandr Shchegolev",
      "photoUrl": "",
      "userId": "00652555022685556919"
     },
     "user_tz": -180
    },
    "id": "oVwiMaWlqRCz",
    "outputId": "c6f65b9c-b2be-4cd9-b1d4-410255c41a90"
   },
   "outputs": [
    {
     "data": {
      "text/plain": [
       "(0.4550913060738388, 0.45608376339817386, 0.4540988487495038)"
      ]
     },
     "execution_count": 53,
     "metadata": {},
     "output_type": "execute_result"
    }
   ],
   "source": [
    "# Выведем импортированные выше метрики классификации для обучающей, валидационной и тестовой выборок\n",
    "\n",
    "accuracy_score(y_train_ind, ind_train_pred['predict']), \\\n",
    "accuracy_score(y_valid_ind, ind_valid_pred['predict']), \\\n",
    "accuracy_score(y_test_ind, ind_test_pred['predict'])"
   ]
  },
  {
   "cell_type": "code",
   "execution_count": 54,
   "metadata": {},
   "outputs": [
    {
     "data": {
      "text/plain": [
       "(0.18614044839725774, 0.18915520047344284, 0.18311427934952104)"
      ]
     },
     "execution_count": 54,
     "metadata": {},
     "output_type": "execute_result"
    }
   ],
   "source": [
    "f1_score(y_train_ind, ind_train_pred['predict']), \\\n",
    "f1_score(y_valid_ind, ind_valid_pred['predict']), \\\n",
    "f1_score(y_test_ind, ind_test_pred['predict'])"
   ]
  },
  {
   "cell_type": "code",
   "execution_count": 55,
   "metadata": {},
   "outputs": [
    {
     "name": "stdout",
     "output_type": "stream",
     "text": [
      "[[31661 41312]\n",
      " [ 2612  5023]] \n",
      "[[15825 20629]\n",
      " [ 1293  2557]] \n",
      "[[15836 20683]\n",
      " [ 1319  2466]]\n"
     ]
    }
   ],
   "source": [
    "print(f\"{confusion_matrix(y_train_ind, ind_train_pred['predict'])} \\n\"  \\\n",
    "f\"{confusion_matrix(y_valid_ind, ind_valid_pred['predict'])} \\n\" \\\n",
    "f\"{confusion_matrix(y_test_ind, ind_test_pred['predict'])}\")"
   ]
  },
  {
   "cell_type": "markdown",
   "metadata": {
    "colab_type": "text",
    "id": "2TNOSiKDs-U6"
   },
   "source": [
    "Какие проблемы вы здесь видите? Как можно улучшить данный результат?"
   ]
  },
  {
   "cell_type": "markdown",
   "metadata": {},
   "source": [
    "1. train_test_split ввести параметр \"stratify\"? чтобы разбиение целевой переменной было прапорционально\n",
    "2. Т.к. у нас не сбалансированная выборка, \"1\" составляет около 10% можно ввести балансировку классов  \n",
    "3. Произвести предварительную очистку в данных  \n",
    "4. Использовать другое распределение\n",
    "5. Использование нелинейных моделей"
   ]
  },
  {
   "cell_type": "markdown",
   "metadata": {},
   "source": [
    "Ввведем в train_test_split параметр \"stratify\""
   ]
  },
  {
   "cell_type": "code",
   "execution_count": 57,
   "metadata": {
    "scrolled": true
   },
   "outputs": [
    {
     "name": "stdout",
     "output_type": "stream",
     "text": [
      "Parse progress: |█████████████████████████████████████████████████████████| 100%\n",
      "Parse progress: |█████████████████████████████████████████████████████████| 100%\n",
      "Parse progress: |█████████████████████████████████████████████████████████| 100%\n",
      "glm Model Build progress: |███████████████████████████████████████████████| 100%\n",
      "glm prediction progress: |████████████████████████████████████████████████| 100%\n",
      "glm prediction progress: |████████████████████████████████████████████████| 100%\n",
      "glm prediction progress: |████████████████████████████████████████████████| 100%\n"
     ]
    }
   ],
   "source": [
    "x_train_ind, x_test_ind, y_train_ind, y_test_ind = train_test_split(df.drop(['ClaimInd', 'ClaimAmount', 'ClaimsCount'], axis=1), df.ClaimInd, test_size=0.3, random_state=1, stratify=df.ClaimInd)\n",
    "x_valid_ind, x_test_ind, y_valid_ind, y_test_ind = train_test_split(x_train_ind, y_train_ind, test_size=0.5, random_state=1, stratify=y_train_ind)\n",
    "\n",
    "h2o_train_ind = h2o.H2OFrame(pd.concat([x_train_ind, y_train_ind], axis=1))\n",
    "h2o_valid_ind = h2o.H2OFrame(pd.concat([x_valid_ind, y_valid_ind], axis=1))\n",
    "h2o_test_ind = h2o.H2OFrame(pd.concat([x_test_ind, y_test_ind], axis=1))\n",
    "\n",
    "glm_binomial = H2OGeneralizedLinearEstimator(family = \"binomial\", nfolds=5)\n",
    "glm_binomial.train(y=\"ClaimInd\", x = h2o_train_ind.names[1:-1], training_frame = h2o_train_ind, validation_frame = h2o_valid_ind)\n",
    "\n",
    "glm_binomial.cross_validation_metrics_summary().as_data_frame()\n",
    "\n",
    "ind_train_pred = glm_binomial.predict(h2o_train_ind).as_data_frame()\n",
    "ind_valid_pred = glm_binomial.predict(h2o_valid_ind).as_data_frame()\n",
    "ind_test_pred = glm_binomial.predict(h2o_test_ind).as_data_frame()"
   ]
  },
  {
   "cell_type": "code",
   "execution_count": 58,
   "metadata": {},
   "outputs": [
    {
     "data": {
      "text/plain": [
       "(0.47692536720921, 0.47846367606192935, 0.47538705835649064)"
      ]
     },
     "execution_count": 58,
     "metadata": {},
     "output_type": "execute_result"
    }
   ],
   "source": [
    "accuracy_score(y_train_ind, ind_train_pred['predict']), \\\n",
    "accuracy_score(y_valid_ind, ind_valid_pred['predict']), \\\n",
    "accuracy_score(y_test_ind, ind_test_pred['predict'])"
   ]
  },
  {
   "cell_type": "code",
   "execution_count": 59,
   "metadata": {},
   "outputs": [
    {
     "data": {
      "text/plain": [
       "(0.1862116884119509, 0.18822893334363172, 0.18419631144378423)"
      ]
     },
     "execution_count": 59,
     "metadata": {},
     "output_type": "execute_result"
    }
   ],
   "source": [
    "f1_score(y_train_ind, ind_train_pred['predict']), \\\n",
    "f1_score(y_valid_ind, ind_valid_pred['predict']), \\\n",
    "f1_score(y_test_ind, ind_test_pred['predict'])"
   ]
  },
  {
   "cell_type": "code",
   "execution_count": 60,
   "metadata": {},
   "outputs": [
    {
     "name": "stdout",
     "output_type": "stream",
     "text": [
      "[[33620 39380]\n",
      " [ 2784  4824]] \n",
      "[[16847 19653]\n",
      " [ 1367  2437]] \n",
      "[[16773 19727]\n",
      " [ 1417  2387]]\n"
     ]
    }
   ],
   "source": [
    "print(f\"{confusion_matrix(y_train_ind, ind_train_pred['predict'])} \\n\"  \\\n",
    "f\"{confusion_matrix(y_valid_ind, ind_valid_pred['predict'])} \\n\" \\\n",
    "f\"{confusion_matrix(y_test_ind, ind_test_pred['predict'])}\")"
   ]
  },
  {
   "cell_type": "markdown",
   "metadata": {},
   "source": [
    "В результате введения в train_test_split параметра \"stratify\"  \n",
    "Получили прирост accuracy, незначительный прирост f1 score, и наблюдаем что ошибок первого и второго рода в confusion matrix стало меньше"
   ]
  },
  {
   "cell_type": "code",
   "execution_count": null,
   "metadata": {},
   "outputs": [],
   "source": []
  }
 ],
 "metadata": {
  "colab": {
   "collapsed_sections": [
    "6qEMtZhcy0nZ",
    "rXdxE61XFNXd",
    "g556ItOFqrlt",
    "idUKi7_RqxHA",
    "hUUC9Vmhf5aB",
    "Xljx8j0-_jXR"
   ],
   "name": "GB Lesson 2.ipynb",
   "provenance": []
  },
  "kernelspec": {
   "display_name": "Python 3",
   "language": "python",
   "name": "python3"
  },
  "language_info": {
   "codemirror_mode": {
    "name": "ipython",
    "version": 3
   },
   "file_extension": ".py",
   "mimetype": "text/x-python",
   "name": "python",
   "nbconvert_exporter": "python",
   "pygments_lexer": "ipython3",
   "version": "3.7.1"
  }
 },
 "nbformat": 4,
 "nbformat_minor": 1
}
